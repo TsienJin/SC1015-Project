{
 "cells": [
  {
   "cell_type": "code",
   "execution_count": 1,
   "id": "f9173e25",
   "metadata": {},
   "outputs": [],
   "source": [
    "# Importing modules\n",
    "\n",
    "import numpy as np\n",
    "import pandas as pd\n",
    "import matplotlib.pyplot as plt\n",
    "import seaborn as sns\n",
    "\n",
    "from sklearn.model_selection import train_test_split\n",
    "from sklearn.pipeline import make_pipeline\n",
    "from sklearn.preprocessing import StandardScaler\n",
    "from sklearn.metrics import confusion_matrix\n",
    "from sklearn import svm\n",
    "\n",
    "sns.set()"
   ]
  },
  {
   "cell_type": "code",
   "execution_count": 2,
   "id": "dd5e95f6",
   "metadata": {},
   "outputs": [],
   "source": [
    "# importing data\n",
    "\n",
    "data = pd.read_csv('../data/labeled_data.csv')\n",
    "dataTrain, dataTest = train_test_split(data, train_size=0.8)"
   ]
  },
  {
   "cell_type": "code",
   "execution_count": 3,
   "id": "c06065e1",
   "metadata": {},
   "outputs": [
    {
     "data": {
      "text/html": [
       "<div>\n",
       "<style scoped>\n",
       "    .dataframe tbody tr th:only-of-type {\n",
       "        vertical-align: middle;\n",
       "    }\n",
       "\n",
       "    .dataframe tbody tr th {\n",
       "        vertical-align: top;\n",
       "    }\n",
       "\n",
       "    .dataframe thead th {\n",
       "        text-align: right;\n",
       "    }\n",
       "</style>\n",
       "<table border=\"1\" class=\"dataframe\">\n",
       "  <thead>\n",
       "    <tr style=\"text-align: right;\">\n",
       "      <th></th>\n",
       "      <th>Nervousness_Label</th>\n",
       "      <th>Unable to control_Label</th>\n",
       "      <th>Worry_Label</th>\n",
       "      <th>Trouble in Relaxation_Label</th>\n",
       "      <th>Restlessness_Label</th>\n",
       "      <th>Irritability_Label</th>\n",
       "      <th>Fear_Label</th>\n",
       "      <th>Stress_Label</th>\n",
       "    </tr>\n",
       "  </thead>\n",
       "  <tbody>\n",
       "    <tr>\n",
       "      <th>2126</th>\n",
       "      <td>1</td>\n",
       "      <td>3</td>\n",
       "      <td>3</td>\n",
       "      <td>3</td>\n",
       "      <td>2</td>\n",
       "      <td>2</td>\n",
       "      <td>1</td>\n",
       "      <td>2</td>\n",
       "    </tr>\n",
       "    <tr>\n",
       "      <th>14167</th>\n",
       "      <td>1</td>\n",
       "      <td>3</td>\n",
       "      <td>1</td>\n",
       "      <td>3</td>\n",
       "      <td>0</td>\n",
       "      <td>1</td>\n",
       "      <td>2</td>\n",
       "      <td>2</td>\n",
       "    </tr>\n",
       "    <tr>\n",
       "      <th>8924</th>\n",
       "      <td>2</td>\n",
       "      <td>0</td>\n",
       "      <td>1</td>\n",
       "      <td>2</td>\n",
       "      <td>2</td>\n",
       "      <td>1</td>\n",
       "      <td>0</td>\n",
       "      <td>1</td>\n",
       "    </tr>\n",
       "    <tr>\n",
       "      <th>5288</th>\n",
       "      <td>1</td>\n",
       "      <td>0</td>\n",
       "      <td>3</td>\n",
       "      <td>3</td>\n",
       "      <td>1</td>\n",
       "      <td>2</td>\n",
       "      <td>1</td>\n",
       "      <td>2</td>\n",
       "    </tr>\n",
       "    <tr>\n",
       "      <th>1701</th>\n",
       "      <td>1</td>\n",
       "      <td>3</td>\n",
       "      <td>2</td>\n",
       "      <td>2</td>\n",
       "      <td>0</td>\n",
       "      <td>0</td>\n",
       "      <td>2</td>\n",
       "      <td>1</td>\n",
       "    </tr>\n",
       "    <tr>\n",
       "      <th>...</th>\n",
       "      <td>...</td>\n",
       "      <td>...</td>\n",
       "      <td>...</td>\n",
       "      <td>...</td>\n",
       "      <td>...</td>\n",
       "      <td>...</td>\n",
       "      <td>...</td>\n",
       "      <td>...</td>\n",
       "    </tr>\n",
       "    <tr>\n",
       "      <th>16205</th>\n",
       "      <td>3</td>\n",
       "      <td>1</td>\n",
       "      <td>1</td>\n",
       "      <td>2</td>\n",
       "      <td>0</td>\n",
       "      <td>3</td>\n",
       "      <td>3</td>\n",
       "      <td>2</td>\n",
       "    </tr>\n",
       "    <tr>\n",
       "      <th>13712</th>\n",
       "      <td>3</td>\n",
       "      <td>3</td>\n",
       "      <td>1</td>\n",
       "      <td>0</td>\n",
       "      <td>3</td>\n",
       "      <td>3</td>\n",
       "      <td>0</td>\n",
       "      <td>2</td>\n",
       "    </tr>\n",
       "    <tr>\n",
       "      <th>6229</th>\n",
       "      <td>2</td>\n",
       "      <td>3</td>\n",
       "      <td>2</td>\n",
       "      <td>2</td>\n",
       "      <td>1</td>\n",
       "      <td>2</td>\n",
       "      <td>2</td>\n",
       "      <td>2</td>\n",
       "    </tr>\n",
       "    <tr>\n",
       "      <th>12748</th>\n",
       "      <td>2</td>\n",
       "      <td>2</td>\n",
       "      <td>0</td>\n",
       "      <td>2</td>\n",
       "      <td>0</td>\n",
       "      <td>1</td>\n",
       "      <td>0</td>\n",
       "      <td>1</td>\n",
       "    </tr>\n",
       "    <tr>\n",
       "      <th>10008</th>\n",
       "      <td>1</td>\n",
       "      <td>0</td>\n",
       "      <td>2</td>\n",
       "      <td>1</td>\n",
       "      <td>2</td>\n",
       "      <td>2</td>\n",
       "      <td>2</td>\n",
       "      <td>1</td>\n",
       "    </tr>\n",
       "  </tbody>\n",
       "</table>\n",
       "<p>13107 rows × 8 columns</p>\n",
       "</div>"
      ],
      "text/plain": [
       "       Nervousness_Label  Unable to control_Label  Worry_Label  \\\n",
       "2126                   1                        3            3   \n",
       "14167                  1                        3            1   \n",
       "8924                   2                        0            1   \n",
       "5288                   1                        0            3   \n",
       "1701                   1                        3            2   \n",
       "...                  ...                      ...          ...   \n",
       "16205                  3                        1            1   \n",
       "13712                  3                        3            1   \n",
       "6229                   2                        3            2   \n",
       "12748                  2                        2            0   \n",
       "10008                  1                        0            2   \n",
       "\n",
       "       Trouble in Relaxation_Label  Restlessness_Label  Irritability_Label  \\\n",
       "2126                             3                   2                   2   \n",
       "14167                            3                   0                   1   \n",
       "8924                             2                   2                   1   \n",
       "5288                             3                   1                   2   \n",
       "1701                             2                   0                   0   \n",
       "...                            ...                 ...                 ...   \n",
       "16205                            2                   0                   3   \n",
       "13712                            0                   3                   3   \n",
       "6229                             2                   1                   2   \n",
       "12748                            2                   0                   1   \n",
       "10008                            1                   2                   2   \n",
       "\n",
       "       Fear_Label  Stress_Label  \n",
       "2126            1             2  \n",
       "14167           2             2  \n",
       "8924            0             1  \n",
       "5288            1             2  \n",
       "1701            2             1  \n",
       "...           ...           ...  \n",
       "16205           3             2  \n",
       "13712           0             2  \n",
       "6229            2             2  \n",
       "12748           0             1  \n",
       "10008           2             1  \n",
       "\n",
       "[13107 rows x 8 columns]"
      ]
     },
     "execution_count": 3,
     "metadata": {},
     "output_type": "execute_result"
    }
   ],
   "source": [
    "dataTrain"
   ]
  },
  {
   "cell_type": "code",
   "execution_count": 4,
   "id": "54f90fbf",
   "metadata": {},
   "outputs": [
    {
     "data": {
      "text/html": [
       "<div>\n",
       "<style scoped>\n",
       "    .dataframe tbody tr th:only-of-type {\n",
       "        vertical-align: middle;\n",
       "    }\n",
       "\n",
       "    .dataframe tbody tr th {\n",
       "        vertical-align: top;\n",
       "    }\n",
       "\n",
       "    .dataframe thead th {\n",
       "        text-align: right;\n",
       "    }\n",
       "</style>\n",
       "<table border=\"1\" class=\"dataframe\">\n",
       "  <thead>\n",
       "    <tr style=\"text-align: right;\">\n",
       "      <th></th>\n",
       "      <th>Nervousness_Label</th>\n",
       "      <th>Unable to control_Label</th>\n",
       "      <th>Worry_Label</th>\n",
       "      <th>Trouble in Relaxation_Label</th>\n",
       "      <th>Restlessness_Label</th>\n",
       "      <th>Irritability_Label</th>\n",
       "      <th>Fear_Label</th>\n",
       "      <th>Stress_Label</th>\n",
       "    </tr>\n",
       "  </thead>\n",
       "  <tbody>\n",
       "    <tr>\n",
       "      <th>2134</th>\n",
       "      <td>2</td>\n",
       "      <td>0</td>\n",
       "      <td>2</td>\n",
       "      <td>0</td>\n",
       "      <td>2</td>\n",
       "      <td>1</td>\n",
       "      <td>0</td>\n",
       "      <td>1</td>\n",
       "    </tr>\n",
       "    <tr>\n",
       "      <th>2605</th>\n",
       "      <td>1</td>\n",
       "      <td>3</td>\n",
       "      <td>0</td>\n",
       "      <td>2</td>\n",
       "      <td>0</td>\n",
       "      <td>1</td>\n",
       "      <td>1</td>\n",
       "      <td>1</td>\n",
       "    </tr>\n",
       "    <tr>\n",
       "      <th>7566</th>\n",
       "      <td>0</td>\n",
       "      <td>3</td>\n",
       "      <td>0</td>\n",
       "      <td>1</td>\n",
       "      <td>0</td>\n",
       "      <td>1</td>\n",
       "      <td>0</td>\n",
       "      <td>1</td>\n",
       "    </tr>\n",
       "    <tr>\n",
       "      <th>11898</th>\n",
       "      <td>2</td>\n",
       "      <td>1</td>\n",
       "      <td>1</td>\n",
       "      <td>1</td>\n",
       "      <td>3</td>\n",
       "      <td>3</td>\n",
       "      <td>3</td>\n",
       "      <td>2</td>\n",
       "    </tr>\n",
       "    <tr>\n",
       "      <th>7032</th>\n",
       "      <td>0</td>\n",
       "      <td>2</td>\n",
       "      <td>3</td>\n",
       "      <td>0</td>\n",
       "      <td>0</td>\n",
       "      <td>2</td>\n",
       "      <td>3</td>\n",
       "      <td>1</td>\n",
       "    </tr>\n",
       "    <tr>\n",
       "      <th>...</th>\n",
       "      <td>...</td>\n",
       "      <td>...</td>\n",
       "      <td>...</td>\n",
       "      <td>...</td>\n",
       "      <td>...</td>\n",
       "      <td>...</td>\n",
       "      <td>...</td>\n",
       "      <td>...</td>\n",
       "    </tr>\n",
       "    <tr>\n",
       "      <th>4773</th>\n",
       "      <td>0</td>\n",
       "      <td>2</td>\n",
       "      <td>1</td>\n",
       "      <td>1</td>\n",
       "      <td>1</td>\n",
       "      <td>1</td>\n",
       "      <td>2</td>\n",
       "      <td>1</td>\n",
       "    </tr>\n",
       "    <tr>\n",
       "      <th>4531</th>\n",
       "      <td>3</td>\n",
       "      <td>3</td>\n",
       "      <td>3</td>\n",
       "      <td>0</td>\n",
       "      <td>2</td>\n",
       "      <td>0</td>\n",
       "      <td>0</td>\n",
       "      <td>2</td>\n",
       "    </tr>\n",
       "    <tr>\n",
       "      <th>6996</th>\n",
       "      <td>3</td>\n",
       "      <td>1</td>\n",
       "      <td>3</td>\n",
       "      <td>3</td>\n",
       "      <td>0</td>\n",
       "      <td>3</td>\n",
       "      <td>2</td>\n",
       "      <td>2</td>\n",
       "    </tr>\n",
       "    <tr>\n",
       "      <th>4352</th>\n",
       "      <td>3</td>\n",
       "      <td>2</td>\n",
       "      <td>1</td>\n",
       "      <td>3</td>\n",
       "      <td>1</td>\n",
       "      <td>2</td>\n",
       "      <td>0</td>\n",
       "      <td>2</td>\n",
       "    </tr>\n",
       "    <tr>\n",
       "      <th>2715</th>\n",
       "      <td>0</td>\n",
       "      <td>1</td>\n",
       "      <td>1</td>\n",
       "      <td>2</td>\n",
       "      <td>1</td>\n",
       "      <td>2</td>\n",
       "      <td>3</td>\n",
       "      <td>1</td>\n",
       "    </tr>\n",
       "  </tbody>\n",
       "</table>\n",
       "<p>3277 rows × 8 columns</p>\n",
       "</div>"
      ],
      "text/plain": [
       "       Nervousness_Label  Unable to control_Label  Worry_Label  \\\n",
       "2134                   2                        0            2   \n",
       "2605                   1                        3            0   \n",
       "7566                   0                        3            0   \n",
       "11898                  2                        1            1   \n",
       "7032                   0                        2            3   \n",
       "...                  ...                      ...          ...   \n",
       "4773                   0                        2            1   \n",
       "4531                   3                        3            3   \n",
       "6996                   3                        1            3   \n",
       "4352                   3                        2            1   \n",
       "2715                   0                        1            1   \n",
       "\n",
       "       Trouble in Relaxation_Label  Restlessness_Label  Irritability_Label  \\\n",
       "2134                             0                   2                   1   \n",
       "2605                             2                   0                   1   \n",
       "7566                             1                   0                   1   \n",
       "11898                            1                   3                   3   \n",
       "7032                             0                   0                   2   \n",
       "...                            ...                 ...                 ...   \n",
       "4773                             1                   1                   1   \n",
       "4531                             0                   2                   0   \n",
       "6996                             3                   0                   3   \n",
       "4352                             3                   1                   2   \n",
       "2715                             2                   1                   2   \n",
       "\n",
       "       Fear_Label  Stress_Label  \n",
       "2134            0             1  \n",
       "2605            1             1  \n",
       "7566            0             1  \n",
       "11898           3             2  \n",
       "7032            3             1  \n",
       "...           ...           ...  \n",
       "4773            2             1  \n",
       "4531            0             2  \n",
       "6996            2             2  \n",
       "4352            0             2  \n",
       "2715            3             1  \n",
       "\n",
       "[3277 rows x 8 columns]"
      ]
     },
     "execution_count": 4,
     "metadata": {},
     "output_type": "execute_result"
    }
   ],
   "source": [
    "dataTest"
   ]
  },
  {
   "cell_type": "markdown",
   "id": "c13aaafa",
   "metadata": {},
   "source": [
    "## Function to score each model"
   ]
  },
  {
   "cell_type": "code",
   "execution_count": 5,
   "id": "15e1200b",
   "metadata": {},
   "outputs": [],
   "source": [
    "def scoreModel(clf):\n",
    "    return clf.score(dataTest.drop(['Stress_Label'], axis=1), dataTest['Stress_Label'])"
   ]
  },
  {
   "cell_type": "markdown",
   "id": "3e61acc9",
   "metadata": {},
   "source": [
    "## Using SVM Linear\n",
    "\n",
    "SVM Linear is the fastest SVM model but may have the lowest level of accuracy."
   ]
  },
  {
   "cell_type": "code",
   "execution_count": 6,
   "id": "34855ae1",
   "metadata": {
    "scrolled": true
   },
   "outputs": [
    {
     "data": {
      "text/plain": [
       "Pipeline(steps=[('standardscaler', StandardScaler()),\n",
       "                ('linearsvc', LinearSVC(random_state=0, tol=1e-05))])"
      ]
     },
     "execution_count": 6,
     "metadata": {},
     "output_type": "execute_result"
    }
   ],
   "source": [
    "clf = make_pipeline(StandardScaler(), svm.LinearSVC(random_state=0, tol=1e-5))\n",
    "clf.fit(dataTrain.drop(['Stress_Label'], axis=1), dataTrain['Stress_Label'])"
   ]
  },
  {
   "cell_type": "code",
   "execution_count": 7,
   "id": "08cae9b4",
   "metadata": {},
   "outputs": [
    {
     "data": {
      "text/plain": [
       "0.9597192554165395"
      ]
     },
     "execution_count": 7,
     "metadata": {},
     "output_type": "execute_result"
    }
   ],
   "source": [
    "scoreModel(clf)"
   ]
  },
  {
   "cell_type": "markdown",
   "id": "8332b3ba",
   "metadata": {},
   "source": [
    "## Training other models\n",
    "\n",
    "These models take longer to train as they have a higher time complexity."
   ]
  },
  {
   "cell_type": "code",
   "execution_count": 8,
   "id": "4dda394f",
   "metadata": {},
   "outputs": [],
   "source": [
    "### SVM Training Constant\n",
    "\n",
    "C = 1.0"
   ]
  },
  {
   "cell_type": "code",
   "execution_count": 9,
   "id": "7ec11d7c",
   "metadata": {},
   "outputs": [
    {
     "data": {
      "text/plain": [
       "Pipeline(steps=[('standardscaler', StandardScaler()),\n",
       "                ('svc', SVC(degree=4, gamma='auto', kernel='poly'))])"
      ]
     },
     "execution_count": 9,
     "metadata": {},
     "output_type": "execute_result"
    }
   ],
   "source": [
    "# SVM Linear Kernel\n",
    "\n",
    "clfLIN = make_pipeline(StandardScaler(), svm.SVC(kernel=\"linear\", C=C))\n",
    "clfLIN.fit(dataTrain.drop(['Stress_Label'], axis=1), dataTrain['Stress_Label'])\n",
    "\n",
    "clfRBF = make_pipeline(StandardScaler(), svm.SVC(kernel=\"rbf\", gamma='auto', C=C))\n",
    "clfRBF.fit(dataTrain.drop(['Stress_Label'], axis=1), dataTrain['Stress_Label'])\n",
    "\n",
    "clfPOLY = make_pipeline(StandardScaler(), svm.SVC(kernel=\"poly\", degree=4, gamma='auto', C=C))\n",
    "clfPOLY.fit(dataTrain.drop(['Stress_Label'], axis=1), dataTrain['Stress_Label'])"
   ]
  },
  {
   "cell_type": "code",
   "execution_count": 10,
   "id": "04cfd3f7",
   "metadata": {},
   "outputs": [
    {
     "name": "stdout",
     "output_type": "stream",
     "text": [
      "linear: 0.9597192554165395\n",
      "clfLIN: 1.0\n",
      "clfRBF: 1.0\n",
      "clfPOLY: 0.44369850472993594\n"
     ]
    }
   ],
   "source": [
    "### Determining Score for SVM models\n",
    "\n",
    "scores = {\n",
    "    'linear': scoreModel(clf),\n",
    "    'clfLIN': scoreModel(clfLIN),\n",
    "    'clfRBF': scoreModel(clfRBF),\n",
    "    'clfPOLY': scoreModel(clfPOLY),\n",
    "}\n",
    "\n",
    "for name, val in scores.items():\n",
    "    print(f\"{name}: {val}\")"
   ]
  },
  {
   "cell_type": "code",
   "execution_count": 11,
   "id": "1ca1564e",
   "metadata": {},
   "outputs": [
    {
     "data": {
      "text/plain": [
       "<AxesSubplot:>"
      ]
     },
     "execution_count": 11,
     "metadata": {},
     "output_type": "execute_result"
    },
    {
     "data": {
      "image/png": "[encoded data removed]",
      "text/plain": [
       "<Figure size 432x288 with 1 Axes>"
      ]
     },
     "metadata": {},
     "output_type": "display_data"
    }
   ],
   "source": [
    "### plotting graph accuracy\n",
    "\n",
    "keys = list(scores.keys())\n",
    "vals = [float(scores[k]) for k in keys]\n",
    "sns.barplot(x=keys, y=vals)"
   ]
  },
  {
   "cell_type": "code",
   "execution_count": 13,
   "id": "ba6e3a8b",
   "metadata": {},
   "outputs": [
    {
     "name": "stdout",
     "output_type": "stream",
     "text": [
      "For SVM Linear:\n",
      "\n",
      "For SVM with linear kernel:\n",
      "\n",
      "For SVM with RBF kernel:\n",
      "\n",
      "For SVM with polynomial kernel:\n",
      "\n"
     ]
    },
    {
     "data": {
      "image/png": "[encoded data removed]",
      "text/plain": [
       "<Figure size 864x1728 with 8 Axes>"
      ]
     },
     "metadata": {},
     "output_type": "display_data"
    }
   ],
   "source": [
    "# Plotting Confusion Matrix\n",
    "\n",
    "X = dataTest[[\"Nervousness_Label\", \"Unable to control_Label\", \"Worry_Label\", \"Trouble in Relaxation_Label\", \"Restlessness_Label\", \"Irritability_Label\", \"Fear_Label\"]]\n",
    "y = dataTest['Stress_Label']\n",
    "\n",
    "f, axes = plt.subplots(4, 1, figsize=(12, 24))\n",
    "\n",
    "print(\"For SVM Linear:\")\n",
    "y_pred = pd.DataFrame(clf.predict(X))\n",
    "sns.heatmap(confusion_matrix(y, y_pred), annot=True,annot_kws={\"size\": 18}, ax = axes[0])\n",
    "print(\"\")\n",
    "\n",
    "print(\"For SVM with linear kernel:\")\n",
    "y_pred = pd.DataFrame(clfLIN.predict(X))\n",
    "sns.heatmap(confusion_matrix(y, y_pred), annot=True,annot_kws={\"size\": 18}, ax = axes[1])\n",
    "print(\"\")\n",
    "\n",
    "print(\"For SVM with RBF kernel:\")\n",
    "y_pred = pd.DataFrame(clfRBF.predict(X))\n",
    "sns.heatmap(confusion_matrix(y, y_pred), annot=True,annot_kws={\"size\": 18}, ax = axes[2])\n",
    "print(\"\")\n",
    "\n",
    "print(\"For SVM with polynomial kernel:\")\n",
    "y_pred = pd.DataFrame(clfPOLY.predict(X))\n",
    "sns.heatmap(confusion_matrix(y, y_pred), annot=True,annot_kws={\"size\": 18}, ax = axes[3])\n",
    "print(\"\")"
   ]
  },
  {
   "cell_type": "code",
   "execution_count": 14,
   "id": "298a200f",
   "metadata": {},
   "outputs": [],
   "source": [
    "### Exporting clfLIN and clfRGF\n",
    "#https://scikit-learn.org/stable/modules/model_persistence.html\n",
    "\n",
    "#from joblib import dump, load\n",
    "\n",
    "#dump(clfLIN, './classificationModels/clfLIN.joblib')\n",
    "#dump(clfRBF, './classificationModels/clfRBF.joblib')"
   ]
  },
  {
   "cell_type": "code",
   "execution_count": null,
   "id": "54ef3b5c",
   "metadata": {},
   "outputs": [],
   "source": []
  }
 ],
 "metadata": {
  "kernelspec": {
   "display_name": "Python 3 (ipykernel)",
   "language": "python",
   "name": "python3"
  },
  "language_info": {
   "codemirror_mode": {
    "name": "ipython",
    "version": 3
   },
   "file_extension": ".py",
   "mimetype": "text/x-python",
   "name": "python",
   "nbconvert_exporter": "python",
   "pygments_lexer": "ipython3",
   "version": "3.8.5"
  }
 },
 "nbformat": 4,
 "nbformat_minor": 5
}
