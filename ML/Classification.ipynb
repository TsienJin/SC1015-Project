{
 "cells": [
  {
   "cell_type": "code",
   "execution_count": 1,
   "id": "f9173e25",
   "metadata": {},
   "outputs": [],
   "source": [
    "# Importing modules\n",
    "\n",
    "import numpy as np\n",
    "import pandas as pd\n",
    "import matplotlib.pyplot as plt\n",
    "import seaborn as sns\n",
    "\n",
    "from sklearn.model_selection import train_test_split\n",
    "from sklearn.pipeline import make_pipeline\n",
    "from sklearn.preprocessing import StandardScaler\n",
    "from sklearn.metrics import confusion_matrix\n",
    "from sklearn import svm\n",
    "\n",
    "sns.set()"
   ]
  },
  {
   "cell_type": "code",
   "execution_count": 2,
   "id": "dd5e95f6",
   "metadata": {},
   "outputs": [],
   "source": [
    "# importing data\n",
    "\n",
    "data = pd.read_csv('../data/labeled_data.csv')\n",
    "dataTrain, dataTest = train_test_split(data, train_size=0.8)"
   ]
  },
  {
   "cell_type": "code",
   "execution_count": 3,
   "id": "c06065e1",
   "metadata": {},
   "outputs": [
    {
     "data": {
      "text/html": [
       "<div>\n",
       "<style scoped>\n",
       "    .dataframe tbody tr th:only-of-type {\n",
       "        vertical-align: middle;\n",
       "    }\n",
       "\n",
       "    .dataframe tbody tr th {\n",
       "        vertical-align: top;\n",
       "    }\n",
       "\n",
       "    .dataframe thead th {\n",
       "        text-align: right;\n",
       "    }\n",
       "</style>\n",
       "<table border=\"1\" class=\"dataframe\">\n",
       "  <thead>\n",
       "    <tr style=\"text-align: right;\">\n",
       "      <th></th>\n",
       "      <th>Nervousness_Label</th>\n",
       "      <th>Unable to control_Label</th>\n",
       "      <th>Worry_Label</th>\n",
       "      <th>Trouble in Relaxation_Label</th>\n",
       "      <th>Restlessness_Label</th>\n",
       "      <th>Irritability_Label</th>\n",
       "      <th>Fear_Label</th>\n",
       "      <th>Stress_Label</th>\n",
       "    </tr>\n",
       "  </thead>\n",
       "  <tbody>\n",
       "    <tr>\n",
       "      <th>8508</th>\n",
       "      <td>0</td>\n",
       "      <td>2</td>\n",
       "      <td>1</td>\n",
       "      <td>2</td>\n",
       "      <td>1</td>\n",
       "      <td>0</td>\n",
       "      <td>1</td>\n",
       "      <td>1</td>\n",
       "    </tr>\n",
       "    <tr>\n",
       "      <th>10200</th>\n",
       "      <td>0</td>\n",
       "      <td>1</td>\n",
       "      <td>1</td>\n",
       "      <td>0</td>\n",
       "      <td>3</td>\n",
       "      <td>2</td>\n",
       "      <td>3</td>\n",
       "      <td>1</td>\n",
       "    </tr>\n",
       "    <tr>\n",
       "      <th>9145</th>\n",
       "      <td>3</td>\n",
       "      <td>0</td>\n",
       "      <td>1</td>\n",
       "      <td>3</td>\n",
       "      <td>0</td>\n",
       "      <td>3</td>\n",
       "      <td>0</td>\n",
       "      <td>1</td>\n",
       "    </tr>\n",
       "    <tr>\n",
       "      <th>4400</th>\n",
       "      <td>2</td>\n",
       "      <td>2</td>\n",
       "      <td>2</td>\n",
       "      <td>2</td>\n",
       "      <td>1</td>\n",
       "      <td>1</td>\n",
       "      <td>2</td>\n",
       "      <td>2</td>\n",
       "    </tr>\n",
       "    <tr>\n",
       "      <th>15510</th>\n",
       "      <td>1</td>\n",
       "      <td>2</td>\n",
       "      <td>3</td>\n",
       "      <td>2</td>\n",
       "      <td>0</td>\n",
       "      <td>2</td>\n",
       "      <td>2</td>\n",
       "      <td>2</td>\n",
       "    </tr>\n",
       "    <tr>\n",
       "      <th>...</th>\n",
       "      <td>...</td>\n",
       "      <td>...</td>\n",
       "      <td>...</td>\n",
       "      <td>...</td>\n",
       "      <td>...</td>\n",
       "      <td>...</td>\n",
       "      <td>...</td>\n",
       "      <td>...</td>\n",
       "    </tr>\n",
       "    <tr>\n",
       "      <th>15200</th>\n",
       "      <td>3</td>\n",
       "      <td>1</td>\n",
       "      <td>0</td>\n",
       "      <td>3</td>\n",
       "      <td>2</td>\n",
       "      <td>3</td>\n",
       "      <td>1</td>\n",
       "      <td>2</td>\n",
       "    </tr>\n",
       "    <tr>\n",
       "      <th>16293</th>\n",
       "      <td>0</td>\n",
       "      <td>2</td>\n",
       "      <td>2</td>\n",
       "      <td>0</td>\n",
       "      <td>3</td>\n",
       "      <td>1</td>\n",
       "      <td>0</td>\n",
       "      <td>1</td>\n",
       "    </tr>\n",
       "    <tr>\n",
       "      <th>15528</th>\n",
       "      <td>1</td>\n",
       "      <td>2</td>\n",
       "      <td>3</td>\n",
       "      <td>2</td>\n",
       "      <td>1</td>\n",
       "      <td>2</td>\n",
       "      <td>0</td>\n",
       "      <td>2</td>\n",
       "    </tr>\n",
       "    <tr>\n",
       "      <th>935</th>\n",
       "      <td>3</td>\n",
       "      <td>2</td>\n",
       "      <td>2</td>\n",
       "      <td>0</td>\n",
       "      <td>0</td>\n",
       "      <td>3</td>\n",
       "      <td>3</td>\n",
       "      <td>2</td>\n",
       "    </tr>\n",
       "    <tr>\n",
       "      <th>2579</th>\n",
       "      <td>3</td>\n",
       "      <td>3</td>\n",
       "      <td>3</td>\n",
       "      <td>3</td>\n",
       "      <td>1</td>\n",
       "      <td>0</td>\n",
       "      <td>1</td>\n",
       "      <td>2</td>\n",
       "    </tr>\n",
       "  </tbody>\n",
       "</table>\n",
       "<p>13107 rows × 8 columns</p>\n",
       "</div>"
      ],
      "text/plain": [
       "       Nervousness_Label  Unable to control_Label  Worry_Label  \\\n",
       "8508                   0                        2            1   \n",
       "10200                  0                        1            1   \n",
       "9145                   3                        0            1   \n",
       "4400                   2                        2            2   \n",
       "15510                  1                        2            3   \n",
       "...                  ...                      ...          ...   \n",
       "15200                  3                        1            0   \n",
       "16293                  0                        2            2   \n",
       "15528                  1                        2            3   \n",
       "935                    3                        2            2   \n",
       "2579                   3                        3            3   \n",
       "\n",
       "       Trouble in Relaxation_Label  Restlessness_Label  Irritability_Label  \\\n",
       "8508                             2                   1                   0   \n",
       "10200                            0                   3                   2   \n",
       "9145                             3                   0                   3   \n",
       "4400                             2                   1                   1   \n",
       "15510                            2                   0                   2   \n",
       "...                            ...                 ...                 ...   \n",
       "15200                            3                   2                   3   \n",
       "16293                            0                   3                   1   \n",
       "15528                            2                   1                   2   \n",
       "935                              0                   0                   3   \n",
       "2579                             3                   1                   0   \n",
       "\n",
       "       Fear_Label  Stress_Label  \n",
       "8508            1             1  \n",
       "10200           3             1  \n",
       "9145            0             1  \n",
       "4400            2             2  \n",
       "15510           2             2  \n",
       "...           ...           ...  \n",
       "15200           1             2  \n",
       "16293           0             1  \n",
       "15528           0             2  \n",
       "935             3             2  \n",
       "2579            1             2  \n",
       "\n",
       "[13107 rows x 8 columns]"
      ]
     },
     "execution_count": 3,
     "metadata": {},
     "output_type": "execute_result"
    }
   ],
   "source": [
    "dataTrain"
   ]
  },
  {
   "cell_type": "code",
   "execution_count": 4,
   "id": "54f90fbf",
   "metadata": {},
   "outputs": [
    {
     "data": {
      "text/html": [
       "<div>\n",
       "<style scoped>\n",
       "    .dataframe tbody tr th:only-of-type {\n",
       "        vertical-align: middle;\n",
       "    }\n",
       "\n",
       "    .dataframe tbody tr th {\n",
       "        vertical-align: top;\n",
       "    }\n",
       "\n",
       "    .dataframe thead th {\n",
       "        text-align: right;\n",
       "    }\n",
       "</style>\n",
       "<table border=\"1\" class=\"dataframe\">\n",
       "  <thead>\n",
       "    <tr style=\"text-align: right;\">\n",
       "      <th></th>\n",
       "      <th>Nervousness_Label</th>\n",
       "      <th>Unable to control_Label</th>\n",
       "      <th>Worry_Label</th>\n",
       "      <th>Trouble in Relaxation_Label</th>\n",
       "      <th>Restlessness_Label</th>\n",
       "      <th>Irritability_Label</th>\n",
       "      <th>Fear_Label</th>\n",
       "      <th>Stress_Label</th>\n",
       "    </tr>\n",
       "  </thead>\n",
       "  <tbody>\n",
       "    <tr>\n",
       "      <th>12022</th>\n",
       "      <td>0</td>\n",
       "      <td>2</td>\n",
       "      <td>3</td>\n",
       "      <td>1</td>\n",
       "      <td>0</td>\n",
       "      <td>3</td>\n",
       "      <td>3</td>\n",
       "      <td>2</td>\n",
       "    </tr>\n",
       "    <tr>\n",
       "      <th>12537</th>\n",
       "      <td>0</td>\n",
       "      <td>0</td>\n",
       "      <td>0</td>\n",
       "      <td>1</td>\n",
       "      <td>1</td>\n",
       "      <td>2</td>\n",
       "      <td>0</td>\n",
       "      <td>0</td>\n",
       "    </tr>\n",
       "    <tr>\n",
       "      <th>433</th>\n",
       "      <td>2</td>\n",
       "      <td>0</td>\n",
       "      <td>0</td>\n",
       "      <td>1</td>\n",
       "      <td>1</td>\n",
       "      <td>1</td>\n",
       "      <td>1</td>\n",
       "      <td>1</td>\n",
       "    </tr>\n",
       "    <tr>\n",
       "      <th>8587</th>\n",
       "      <td>1</td>\n",
       "      <td>1</td>\n",
       "      <td>2</td>\n",
       "      <td>3</td>\n",
       "      <td>1</td>\n",
       "      <td>3</td>\n",
       "      <td>2</td>\n",
       "      <td>2</td>\n",
       "    </tr>\n",
       "    <tr>\n",
       "      <th>1629</th>\n",
       "      <td>1</td>\n",
       "      <td>2</td>\n",
       "      <td>1</td>\n",
       "      <td>1</td>\n",
       "      <td>2</td>\n",
       "      <td>1</td>\n",
       "      <td>3</td>\n",
       "      <td>2</td>\n",
       "    </tr>\n",
       "    <tr>\n",
       "      <th>...</th>\n",
       "      <td>...</td>\n",
       "      <td>...</td>\n",
       "      <td>...</td>\n",
       "      <td>...</td>\n",
       "      <td>...</td>\n",
       "      <td>...</td>\n",
       "      <td>...</td>\n",
       "      <td>...</td>\n",
       "    </tr>\n",
       "    <tr>\n",
       "      <th>5589</th>\n",
       "      <td>0</td>\n",
       "      <td>3</td>\n",
       "      <td>3</td>\n",
       "      <td>0</td>\n",
       "      <td>2</td>\n",
       "      <td>1</td>\n",
       "      <td>3</td>\n",
       "      <td>2</td>\n",
       "    </tr>\n",
       "    <tr>\n",
       "      <th>7999</th>\n",
       "      <td>0</td>\n",
       "      <td>3</td>\n",
       "      <td>0</td>\n",
       "      <td>2</td>\n",
       "      <td>3</td>\n",
       "      <td>3</td>\n",
       "      <td>1</td>\n",
       "      <td>2</td>\n",
       "    </tr>\n",
       "    <tr>\n",
       "      <th>1213</th>\n",
       "      <td>2</td>\n",
       "      <td>1</td>\n",
       "      <td>1</td>\n",
       "      <td>3</td>\n",
       "      <td>0</td>\n",
       "      <td>2</td>\n",
       "      <td>0</td>\n",
       "      <td>1</td>\n",
       "    </tr>\n",
       "    <tr>\n",
       "      <th>3181</th>\n",
       "      <td>0</td>\n",
       "      <td>1</td>\n",
       "      <td>0</td>\n",
       "      <td>3</td>\n",
       "      <td>2</td>\n",
       "      <td>3</td>\n",
       "      <td>0</td>\n",
       "      <td>1</td>\n",
       "    </tr>\n",
       "    <tr>\n",
       "      <th>5226</th>\n",
       "      <td>2</td>\n",
       "      <td>3</td>\n",
       "      <td>3</td>\n",
       "      <td>0</td>\n",
       "      <td>0</td>\n",
       "      <td>3</td>\n",
       "      <td>1</td>\n",
       "      <td>2</td>\n",
       "    </tr>\n",
       "  </tbody>\n",
       "</table>\n",
       "<p>3277 rows × 8 columns</p>\n",
       "</div>"
      ],
      "text/plain": [
       "       Nervousness_Label  Unable to control_Label  Worry_Label  \\\n",
       "12022                  0                        2            3   \n",
       "12537                  0                        0            0   \n",
       "433                    2                        0            0   \n",
       "8587                   1                        1            2   \n",
       "1629                   1                        2            1   \n",
       "...                  ...                      ...          ...   \n",
       "5589                   0                        3            3   \n",
       "7999                   0                        3            0   \n",
       "1213                   2                        1            1   \n",
       "3181                   0                        1            0   \n",
       "5226                   2                        3            3   \n",
       "\n",
       "       Trouble in Relaxation_Label  Restlessness_Label  Irritability_Label  \\\n",
       "12022                            1                   0                   3   \n",
       "12537                            1                   1                   2   \n",
       "433                              1                   1                   1   \n",
       "8587                             3                   1                   3   \n",
       "1629                             1                   2                   1   \n",
       "...                            ...                 ...                 ...   \n",
       "5589                             0                   2                   1   \n",
       "7999                             2                   3                   3   \n",
       "1213                             3                   0                   2   \n",
       "3181                             3                   2                   3   \n",
       "5226                             0                   0                   3   \n",
       "\n",
       "       Fear_Label  Stress_Label  \n",
       "12022           3             2  \n",
       "12537           0             0  \n",
       "433             1             1  \n",
       "8587            2             2  \n",
       "1629            3             2  \n",
       "...           ...           ...  \n",
       "5589            3             2  \n",
       "7999            1             2  \n",
       "1213            0             1  \n",
       "3181            0             1  \n",
       "5226            1             2  \n",
       "\n",
       "[3277 rows x 8 columns]"
      ]
     },
     "execution_count": 4,
     "metadata": {},
     "output_type": "execute_result"
    }
   ],
   "source": [
    "dataTest"
   ]
  },
  {
   "cell_type": "markdown",
   "id": "c13aaafa",
   "metadata": {},
   "source": [
    "## Function to score each model"
   ]
  },
  {
   "cell_type": "code",
   "execution_count": 6,
   "id": "15e1200b",
   "metadata": {},
   "outputs": [],
   "source": [
    "def scoreModel(clf):\n",
    "    return clf.score(dataTest.drop(['Stress_Label'], axis=1), dataTest['Stress_Label'])"
   ]
  },
  {
   "cell_type": "markdown",
   "id": "3e61acc9",
   "metadata": {},
   "source": [
    "## Using SVM Linear\n",
    "\n",
    "SVM Linear is the fastest SVM model but may have the lowest level of accuracy."
   ]
  },
  {
   "cell_type": "code",
   "execution_count": 7,
   "id": "34855ae1",
   "metadata": {
    "scrolled": true
   },
   "outputs": [
    {
     "data": {
      "text/plain": [
       "Pipeline(steps=[('standardscaler', StandardScaler()),\n",
       "                ('linearsvc', LinearSVC(random_state=0, tol=1e-05))])"
      ]
     },
     "execution_count": 7,
     "metadata": {},
     "output_type": "execute_result"
    }
   ],
   "source": [
    "clf = make_pipeline(StandardScaler(), svm.LinearSVC(random_state=0, tol=1e-5))\n",
    "clf.fit(dataTrain.drop(['Stress_Label'], axis=1), dataTrain['Stress_Label'])"
   ]
  },
  {
   "cell_type": "code",
   "execution_count": 8,
   "id": "08cae9b4",
   "metadata": {},
   "outputs": [
    {
     "data": {
      "text/plain": [
       "0.9627708269758926"
      ]
     },
     "execution_count": 8,
     "metadata": {},
     "output_type": "execute_result"
    }
   ],
   "source": [
    "scoreModel(clf)"
   ]
  },
  {
   "cell_type": "markdown",
   "id": "8332b3ba",
   "metadata": {},
   "source": [
    "## Training other models\n",
    "\n",
    "These models take longer to train as they have a higher time complexity."
   ]
  },
  {
   "cell_type": "code",
   "execution_count": 9,
   "id": "4dda394f",
   "metadata": {},
   "outputs": [],
   "source": [
    "### SVM Training Constant\n",
    "\n",
    "C = 1.0"
   ]
  },
  {
   "cell_type": "code",
   "execution_count": 10,
   "id": "7ec11d7c",
   "metadata": {},
   "outputs": [
    {
     "data": {
      "text/plain": [
       "Pipeline(steps=[('standardscaler', StandardScaler()),\n",
       "                ('svc', SVC(degree=4, gamma='auto', kernel='poly'))])"
      ]
     },
     "execution_count": 10,
     "metadata": {},
     "output_type": "execute_result"
    }
   ],
   "source": [
    "# SVM Linear Kernel\n",
    "\n",
    "clfLIN = make_pipeline(StandardScaler(), svm.SVC(kernel=\"linear\", C=C))\n",
    "clfLIN.fit(dataTrain.drop(['Stress_Label'], axis=1), dataTrain['Stress_Label'])\n",
    "\n",
    "clfRBF = make_pipeline(StandardScaler(), svm.SVC(kernel=\"rbf\", gamma='auto', C=C))\n",
    "clfRBF.fit(dataTrain.drop(['Stress_Label'], axis=1), dataTrain['Stress_Label'])\n",
    "\n",
    "clfPOLY = make_pipeline(StandardScaler(), svm.SVC(kernel=\"poly\", degree=4, gamma='auto', C=C))\n",
    "clfPOLY.fit(dataTrain.drop(['Stress_Label'], axis=1), dataTrain['Stress_Label'])"
   ]
  },
  {
   "cell_type": "code",
   "execution_count": 11,
   "id": "04cfd3f7",
   "metadata": {},
   "outputs": [
    {
     "name": "stdout",
     "output_type": "stream",
     "text": [
      "linear: 0.9627708269758926\n",
      "clfLIN: 1.0\n",
      "clfRBF: 1.0\n",
      "clfPOLY: 0.4528532194079951\n"
     ]
    }
   ],
   "source": [
    "### Determining Score for SVM models\n",
    "\n",
    "scores = {\n",
    "    'linear': scoreModel(clf),\n",
    "    'clfLIN': scoreModel(clfLIN),\n",
    "    'clfRBF': scoreModel(clfRBF),\n",
    "    'clfPOLY': scoreModel(clfPOLY),\n",
    "}\n",
    "\n",
    "for name, val in scores.items():\n",
    "    print(f\"{name}: {val}\")"
   ]
  },
  {
   "cell_type": "code",
   "execution_count": 12,
   "id": "1ca1564e",
   "metadata": {},
   "outputs": [
    {
     "data": {
      "text/plain": [
       "<AxesSubplot:>"
      ]
     },
     "execution_count": 12,
     "metadata": {},
     "output_type": "execute_result"
    },
    {
     "data": {
      "image/png": "[encoded data removed]",
      "text/plain": [
       "<Figure size 432x288 with 1 Axes>"
      ]
     },
     "metadata": {},
     "output_type": "display_data"
    }
   ],
   "source": [
    "### plotting graph accuracy\n",
    "\n",
    "keys = list(scores.keys())\n",
    "vals = [float(scores[k]) for k in keys]\n",
    "sns.barplot(x=keys, y=vals)"
   ]
  },
  {
   "cell_type": "code",
   "execution_count": 13,
   "id": "ba6e3a8b",
   "metadata": {},
   "outputs": [
    {
     "name": "stdout",
     "output_type": "stream",
     "text": [
      "For SVM Linear:\n",
      "\n",
      "For SVM with linear kernel:\n",
      "\n",
      "For SVM with RBF kernel:\n",
      "\n",
      "For SVM with polynomial kernel:\n",
      "\n"
     ]
    },
    {
     "data": {
      "image/png": "[encoded data removed]",
      "text/plain": [
       "<Figure size 864x1728 with 8 Axes>"
      ]
     },
     "metadata": {},
     "output_type": "display_data"
    }
   ],
   "source": [
    "# Plotting Confusion Matrix\n",
    "\n",
    "X = dataTest[[\"Nervousness_Label\", \"Unable to control_Label\", \"Worry_Label\", \"Trouble in Relaxation_Label\", \"Restlessness_Label\", \"Irritability_Label\", \"Fear_Label\"]]\n",
    "y = dataTest['Stress_Label']\n",
    "\n",
    "f, axes = plt.subplots(4, 1, figsize=(12, 24))\n",
    "\n",
    "print(\"For SVM Linear:\")\n",
    "y_pred = pd.DataFrame(clf.predict(X))\n",
    "sns.heatmap(confusion_matrix(y, y_pred), annot=True,annot_kws={\"size\": 18}, ax = axes[0])\n",
    "print(\"\")\n",
    "\n",
    "print(\"For SVM with linear kernel:\")\n",
    "y_pred = pd.DataFrame(clfLIN.predict(X))\n",
    "sns.heatmap(confusion_matrix(y, y_pred), annot=True,annot_kws={\"size\": 18}, ax = axes[1])\n",
    "print(\"\")\n",
    "\n",
    "print(\"For SVM with RBF kernel:\")\n",
    "y_pred = pd.DataFrame(clfRBF.predict(X))\n",
    "sns.heatmap(confusion_matrix(y, y_pred), annot=True,annot_kws={\"size\": 18}, ax = axes[2])\n",
    "print(\"\")\n",
    "\n",
    "print(\"For SVM with polynomial kernel:\")\n",
    "y_pred = pd.DataFrame(clfPOLY.predict(X))\n",
    "sns.heatmap(confusion_matrix(y, y_pred), annot=True,annot_kws={\"size\": 18}, ax = axes[3])\n",
    "print(\"\")"
   ]
  },
  {
   "cell_type": "markdown",
   "id": "0999d7af",
   "metadata": {},
   "source": [
    "### From the above confusion matrix, the TRUE values, which are along the diagonal, are the most for SVM with linear kernel and RBF kernel - suggesting a True 0 / True 1 / True 2 / True 3 - rate of 1.0"
   ]
  },
  {
   "cell_type": "code",
   "execution_count": 14,
   "id": "298a200f",
   "metadata": {},
   "outputs": [],
   "source": [
    "### Exporting clfLIN and clfRGF\n",
    "#https://scikit-learn.org/stable/modules/model_persistence.html\n",
    "\n",
    "#from joblib import dump, load\n",
    "\n",
    "#dump(clfLIN, './classificationModels/clfLIN.joblib')\n",
    "#dump(clfRBF, './classificationModels/clfRBF.joblib')"
   ]
  },
  {
   "cell_type": "code",
   "execution_count": null,
   "id": "54ef3b5c",
   "metadata": {},
   "outputs": [],
   "source": []
  }
 ],
 "metadata": {
  "kernelspec": {
   "display_name": "Python 3 (ipykernel)",
   "language": "python",
   "name": "python3"
  },
  "language_info": {
   "codemirror_mode": {
    "name": "ipython",
    "version": 3
   },
   "file_extension": ".py",
   "mimetype": "text/x-python",
   "name": "python",
   "nbconvert_exporter": "python",
   "pygments_lexer": "ipython3",
   "version": "3.9.7"
  }
 },
 "nbformat": 4,
 "nbformat_minor": 5
}
