{
 "cells": [
  {
   "cell_type": "code",
   "execution_count": 1,
   "id": "9673c0e5",
   "metadata": {},
   "outputs": [],
   "source": [
    "# Basic Libraries\n",
    "import numpy as np\n",
    "import pandas as pd\n",
    "from sklearn.model_selection import train_test_split\n",
    "from sklearn.linear_model import LinearRegression\n",
    "from sklearn.cluster import KMeans\n",
    "import seaborn as sns\n",
    "import matplotlib.pyplot as plt\n",
    "sns.set()"
   ]
  },
  {
   "cell_type": "code",
   "execution_count": 2,
   "id": "62e1a0eb",
   "metadata": {},
   "outputs": [
    {
     "data": {
      "text/html": [
       "<div>\n",
       "<style scoped>\n",
       "    .dataframe tbody tr th:only-of-type {\n",
       "        vertical-align: middle;\n",
       "    }\n",
       "\n",
       "    .dataframe tbody tr th {\n",
       "        vertical-align: top;\n",
       "    }\n",
       "\n",
       "    .dataframe thead th {\n",
       "        text-align: right;\n",
       "    }\n",
       "</style>\n",
       "<table border=\"1\" class=\"dataframe\">\n",
       "  <thead>\n",
       "    <tr style=\"text-align: right;\">\n",
       "      <th></th>\n",
       "      <th>sr</th>\n",
       "      <th>rr</th>\n",
       "      <th>t</th>\n",
       "      <th>lm</th>\n",
       "      <th>bo</th>\n",
       "      <th>rem</th>\n",
       "      <th>sr.1</th>\n",
       "      <th>hr</th>\n",
       "      <th>sl</th>\n",
       "    </tr>\n",
       "  </thead>\n",
       "  <tbody>\n",
       "    <tr>\n",
       "      <th>0</th>\n",
       "      <td>93.80</td>\n",
       "      <td>25.680</td>\n",
       "      <td>91.840</td>\n",
       "      <td>16.600</td>\n",
       "      <td>89.840</td>\n",
       "      <td>99.60</td>\n",
       "      <td>1.840</td>\n",
       "      <td>74.20</td>\n",
       "      <td>3</td>\n",
       "    </tr>\n",
       "    <tr>\n",
       "      <th>1</th>\n",
       "      <td>91.64</td>\n",
       "      <td>25.104</td>\n",
       "      <td>91.552</td>\n",
       "      <td>15.880</td>\n",
       "      <td>89.552</td>\n",
       "      <td>98.88</td>\n",
       "      <td>1.552</td>\n",
       "      <td>72.76</td>\n",
       "      <td>3</td>\n",
       "    </tr>\n",
       "    <tr>\n",
       "      <th>2</th>\n",
       "      <td>60.00</td>\n",
       "      <td>20.000</td>\n",
       "      <td>96.000</td>\n",
       "      <td>10.000</td>\n",
       "      <td>95.000</td>\n",
       "      <td>85.00</td>\n",
       "      <td>7.000</td>\n",
       "      <td>60.00</td>\n",
       "      <td>1</td>\n",
       "    </tr>\n",
       "    <tr>\n",
       "      <th>3</th>\n",
       "      <td>85.76</td>\n",
       "      <td>23.536</td>\n",
       "      <td>90.768</td>\n",
       "      <td>13.920</td>\n",
       "      <td>88.768</td>\n",
       "      <td>96.92</td>\n",
       "      <td>0.768</td>\n",
       "      <td>68.84</td>\n",
       "      <td>3</td>\n",
       "    </tr>\n",
       "    <tr>\n",
       "      <th>4</th>\n",
       "      <td>48.12</td>\n",
       "      <td>17.248</td>\n",
       "      <td>97.872</td>\n",
       "      <td>6.496</td>\n",
       "      <td>96.248</td>\n",
       "      <td>72.48</td>\n",
       "      <td>8.248</td>\n",
       "      <td>53.12</td>\n",
       "      <td>0</td>\n",
       "    </tr>\n",
       "  </tbody>\n",
       "</table>\n",
       "</div>"
      ],
      "text/plain": [
       "      sr      rr       t      lm      bo    rem   sr.1     hr  sl\n",
       "0  93.80  25.680  91.840  16.600  89.840  99.60  1.840  74.20   3\n",
       "1  91.64  25.104  91.552  15.880  89.552  98.88  1.552  72.76   3\n",
       "2  60.00  20.000  96.000  10.000  95.000  85.00  7.000  60.00   1\n",
       "3  85.76  23.536  90.768  13.920  88.768  96.92  0.768  68.84   3\n",
       "4  48.12  17.248  97.872   6.496  96.248  72.48  8.248  53.12   0"
      ]
     },
     "execution_count": 2,
     "metadata": {},
     "output_type": "execute_result"
    }
   ],
   "source": [
    "# Importing the dataset\n",
    "sleepData = pd.read_csv(\"../data/SaYoPillow.csv\")\n",
    "sleepData.head()"
   ]
  },
  {
   "cell_type": "markdown",
   "id": "d3ddca99",
   "metadata": {},
   "source": [
    "# Data Preparation and Cleaning\n",
    "- Converting the body temperature from farenheit to celsius\n",
    "- Re-categorising the 5 different sleep levels into 4, with 0 to 0, 1 to 1, 2/3 to 2, and 4 to 3"
   ]
  },
  {
   "cell_type": "code",
   "execution_count": 3,
   "id": "ff6574f7",
   "metadata": {},
   "outputs": [
    {
     "data": {
      "text/html": [
       "<div>\n",
       "<style scoped>\n",
       "    .dataframe tbody tr th:only-of-type {\n",
       "        vertical-align: middle;\n",
       "    }\n",
       "\n",
       "    .dataframe tbody tr th {\n",
       "        vertical-align: top;\n",
       "    }\n",
       "\n",
       "    .dataframe thead th {\n",
       "        text-align: right;\n",
       "    }\n",
       "</style>\n",
       "<table border=\"1\" class=\"dataframe\">\n",
       "  <thead>\n",
       "    <tr style=\"text-align: right;\">\n",
       "      <th></th>\n",
       "      <th>sr</th>\n",
       "      <th>rr</th>\n",
       "      <th>t</th>\n",
       "      <th>lm</th>\n",
       "      <th>bo</th>\n",
       "      <th>rem</th>\n",
       "      <th>sr.1</th>\n",
       "      <th>hr</th>\n",
       "      <th>sl</th>\n",
       "    </tr>\n",
       "  </thead>\n",
       "  <tbody>\n",
       "    <tr>\n",
       "      <th>0</th>\n",
       "      <td>93.80</td>\n",
       "      <td>25.680</td>\n",
       "      <td>33.244444</td>\n",
       "      <td>16.600</td>\n",
       "      <td>89.840</td>\n",
       "      <td>99.60</td>\n",
       "      <td>1.840</td>\n",
       "      <td>74.20</td>\n",
       "      <td>3</td>\n",
       "    </tr>\n",
       "    <tr>\n",
       "      <th>1</th>\n",
       "      <td>91.64</td>\n",
       "      <td>25.104</td>\n",
       "      <td>33.084444</td>\n",
       "      <td>15.880</td>\n",
       "      <td>89.552</td>\n",
       "      <td>98.88</td>\n",
       "      <td>1.552</td>\n",
       "      <td>72.76</td>\n",
       "      <td>3</td>\n",
       "    </tr>\n",
       "    <tr>\n",
       "      <th>2</th>\n",
       "      <td>60.00</td>\n",
       "      <td>20.000</td>\n",
       "      <td>35.555556</td>\n",
       "      <td>10.000</td>\n",
       "      <td>95.000</td>\n",
       "      <td>85.00</td>\n",
       "      <td>7.000</td>\n",
       "      <td>60.00</td>\n",
       "      <td>1</td>\n",
       "    </tr>\n",
       "    <tr>\n",
       "      <th>3</th>\n",
       "      <td>85.76</td>\n",
       "      <td>23.536</td>\n",
       "      <td>32.648889</td>\n",
       "      <td>13.920</td>\n",
       "      <td>88.768</td>\n",
       "      <td>96.92</td>\n",
       "      <td>0.768</td>\n",
       "      <td>68.84</td>\n",
       "      <td>3</td>\n",
       "    </tr>\n",
       "    <tr>\n",
       "      <th>4</th>\n",
       "      <td>48.12</td>\n",
       "      <td>17.248</td>\n",
       "      <td>36.595556</td>\n",
       "      <td>6.496</td>\n",
       "      <td>96.248</td>\n",
       "      <td>72.48</td>\n",
       "      <td>8.248</td>\n",
       "      <td>53.12</td>\n",
       "      <td>0</td>\n",
       "    </tr>\n",
       "  </tbody>\n",
       "</table>\n",
       "</div>"
      ],
      "text/plain": [
       "      sr      rr          t      lm      bo    rem   sr.1     hr  sl\n",
       "0  93.80  25.680  33.244444  16.600  89.840  99.60  1.840  74.20   3\n",
       "1  91.64  25.104  33.084444  15.880  89.552  98.88  1.552  72.76   3\n",
       "2  60.00  20.000  35.555556  10.000  95.000  85.00  7.000  60.00   1\n",
       "3  85.76  23.536  32.648889  13.920  88.768  96.92  0.768  68.84   3\n",
       "4  48.12  17.248  36.595556   6.496  96.248  72.48  8.248  53.12   0"
      ]
     },
     "execution_count": 3,
     "metadata": {},
     "output_type": "execute_result"
    }
   ],
   "source": [
    "# Converting the body temperature from farenheit to celsius\n",
    "def convert_to_celsius(x):\n",
    "    return (x - 32) * 5/9\n",
    "\n",
    "sleepData[\"t\"] = sleepData[\"t\"].apply(convert_to_celsius)\n",
    "sleepData.head()"
   ]
  },
  {
   "cell_type": "code",
   "execution_count": 4,
   "id": "5034e990",
   "metadata": {},
   "outputs": [
    {
     "data": {
      "text/html": [
       "<div>\n",
       "<style scoped>\n",
       "    .dataframe tbody tr th:only-of-type {\n",
       "        vertical-align: middle;\n",
       "    }\n",
       "\n",
       "    .dataframe tbody tr th {\n",
       "        vertical-align: top;\n",
       "    }\n",
       "\n",
       "    .dataframe thead th {\n",
       "        text-align: right;\n",
       "    }\n",
       "</style>\n",
       "<table border=\"1\" class=\"dataframe\">\n",
       "  <thead>\n",
       "    <tr style=\"text-align: right;\">\n",
       "      <th></th>\n",
       "      <th>sr</th>\n",
       "      <th>rr</th>\n",
       "      <th>t</th>\n",
       "      <th>lm</th>\n",
       "      <th>bo</th>\n",
       "      <th>rem</th>\n",
       "      <th>sr.1</th>\n",
       "      <th>hr</th>\n",
       "      <th>sl</th>\n",
       "    </tr>\n",
       "  </thead>\n",
       "  <tbody>\n",
       "    <tr>\n",
       "      <th>count</th>\n",
       "      <td>630.000000</td>\n",
       "      <td>630.000000</td>\n",
       "      <td>630.000000</td>\n",
       "      <td>630.000000</td>\n",
       "      <td>630.000000</td>\n",
       "      <td>630.000000</td>\n",
       "      <td>630.000000</td>\n",
       "      <td>630.000000</td>\n",
       "      <td>630.000000</td>\n",
       "    </tr>\n",
       "    <tr>\n",
       "      <th>mean</th>\n",
       "      <td>71.600000</td>\n",
       "      <td>21.800000</td>\n",
       "      <td>33.777778</td>\n",
       "      <td>11.700000</td>\n",
       "      <td>90.900000</td>\n",
       "      <td>88.500000</td>\n",
       "      <td>3.700000</td>\n",
       "      <td>64.500000</td>\n",
       "      <td>1.600000</td>\n",
       "    </tr>\n",
       "    <tr>\n",
       "      <th>std</th>\n",
       "      <td>19.372833</td>\n",
       "      <td>3.966111</td>\n",
       "      <td>1.960939</td>\n",
       "      <td>4.299629</td>\n",
       "      <td>3.902483</td>\n",
       "      <td>11.893747</td>\n",
       "      <td>3.054572</td>\n",
       "      <td>9.915277</td>\n",
       "      <td>1.020614</td>\n",
       "    </tr>\n",
       "    <tr>\n",
       "      <th>min</th>\n",
       "      <td>45.000000</td>\n",
       "      <td>16.000000</td>\n",
       "      <td>29.444444</td>\n",
       "      <td>4.000000</td>\n",
       "      <td>82.000000</td>\n",
       "      <td>60.000000</td>\n",
       "      <td>0.000000</td>\n",
       "      <td>50.000000</td>\n",
       "      <td>0.000000</td>\n",
       "    </tr>\n",
       "    <tr>\n",
       "      <th>25%</th>\n",
       "      <td>52.500000</td>\n",
       "      <td>18.500000</td>\n",
       "      <td>32.500000</td>\n",
       "      <td>8.500000</td>\n",
       "      <td>88.500000</td>\n",
       "      <td>81.250000</td>\n",
       "      <td>0.500000</td>\n",
       "      <td>56.250000</td>\n",
       "      <td>1.000000</td>\n",
       "    </tr>\n",
       "    <tr>\n",
       "      <th>50%</th>\n",
       "      <td>70.000000</td>\n",
       "      <td>21.000000</td>\n",
       "      <td>33.888889</td>\n",
       "      <td>11.000000</td>\n",
       "      <td>91.000000</td>\n",
       "      <td>90.000000</td>\n",
       "      <td>3.500000</td>\n",
       "      <td>62.500000</td>\n",
       "      <td>2.000000</td>\n",
       "    </tr>\n",
       "    <tr>\n",
       "      <th>75%</th>\n",
       "      <td>91.250000</td>\n",
       "      <td>25.000000</td>\n",
       "      <td>35.277778</td>\n",
       "      <td>15.750000</td>\n",
       "      <td>94.250000</td>\n",
       "      <td>98.750000</td>\n",
       "      <td>6.500000</td>\n",
       "      <td>72.500000</td>\n",
       "      <td>2.000000</td>\n",
       "    </tr>\n",
       "    <tr>\n",
       "      <th>max</th>\n",
       "      <td>100.000000</td>\n",
       "      <td>30.000000</td>\n",
       "      <td>37.222222</td>\n",
       "      <td>19.000000</td>\n",
       "      <td>97.000000</td>\n",
       "      <td>105.000000</td>\n",
       "      <td>9.000000</td>\n",
       "      <td>85.000000</td>\n",
       "      <td>3.000000</td>\n",
       "    </tr>\n",
       "  </tbody>\n",
       "</table>\n",
       "</div>"
      ],
      "text/plain": [
       "               sr          rr           t          lm          bo         rem  \\\n",
       "count  630.000000  630.000000  630.000000  630.000000  630.000000  630.000000   \n",
       "mean    71.600000   21.800000   33.777778   11.700000   90.900000   88.500000   \n",
       "std     19.372833    3.966111    1.960939    4.299629    3.902483   11.893747   \n",
       "min     45.000000   16.000000   29.444444    4.000000   82.000000   60.000000   \n",
       "25%     52.500000   18.500000   32.500000    8.500000   88.500000   81.250000   \n",
       "50%     70.000000   21.000000   33.888889   11.000000   91.000000   90.000000   \n",
       "75%     91.250000   25.000000   35.277778   15.750000   94.250000   98.750000   \n",
       "max    100.000000   30.000000   37.222222   19.000000   97.000000  105.000000   \n",
       "\n",
       "             sr.1          hr          sl  \n",
       "count  630.000000  630.000000  630.000000  \n",
       "mean     3.700000   64.500000    1.600000  \n",
       "std      3.054572    9.915277    1.020614  \n",
       "min      0.000000   50.000000    0.000000  \n",
       "25%      0.500000   56.250000    1.000000  \n",
       "50%      3.500000   62.500000    2.000000  \n",
       "75%      6.500000   72.500000    2.000000  \n",
       "max      9.000000   85.000000    3.000000  "
      ]
     },
     "execution_count": 4,
     "metadata": {},
     "output_type": "execute_result"
    }
   ],
   "source": [
    "# Re-categorising the 5 different sleep levels into 4, with 0 to 0, 1 to 1, 2/3 to 2, and 4 to 3\n",
    "sleepData[\"sl\"] = sleepData[\"sl\"].replace([2, 3], 2)\n",
    "sleepData[\"sl\"] = sleepData[\"sl\"].replace([4], 3)\n",
    "sleepData.describe()"
   ]
  },
  {
   "cell_type": "code",
   "execution_count": 5,
   "id": "8658b4d1",
   "metadata": {},
   "outputs": [
    {
     "data": {
      "text/html": [
       "<div>\n",
       "<style scoped>\n",
       "    .dataframe tbody tr th:only-of-type {\n",
       "        vertical-align: middle;\n",
       "    }\n",
       "\n",
       "    .dataframe tbody tr th {\n",
       "        vertical-align: top;\n",
       "    }\n",
       "\n",
       "    .dataframe thead th {\n",
       "        text-align: right;\n",
       "    }\n",
       "</style>\n",
       "<table border=\"1\" class=\"dataframe\">\n",
       "  <thead>\n",
       "    <tr style=\"text-align: right;\">\n",
       "      <th></th>\n",
       "      <th>sr</th>\n",
       "      <th>rr</th>\n",
       "      <th>t</th>\n",
       "      <th>lm</th>\n",
       "      <th>bo</th>\n",
       "      <th>rem</th>\n",
       "      <th>sr.1</th>\n",
       "      <th>hr</th>\n",
       "      <th>sl</th>\n",
       "    </tr>\n",
       "  </thead>\n",
       "  <tbody>\n",
       "    <tr>\n",
       "      <th>sr</th>\n",
       "      <td>1.000000</td>\n",
       "      <td>0.976268</td>\n",
       "      <td>-0.902475</td>\n",
       "      <td>0.981078</td>\n",
       "      <td>-0.903140</td>\n",
       "      <td>0.950600</td>\n",
       "      <td>-0.920554</td>\n",
       "      <td>0.976268</td>\n",
       "      <td>0.923974</td>\n",
       "    </tr>\n",
       "    <tr>\n",
       "      <th>rr</th>\n",
       "      <td>0.976268</td>\n",
       "      <td>1.000000</td>\n",
       "      <td>-0.889237</td>\n",
       "      <td>0.991738</td>\n",
       "      <td>-0.889210</td>\n",
       "      <td>0.935572</td>\n",
       "      <td>-0.891855</td>\n",
       "      <td>1.000000</td>\n",
       "      <td>0.920463</td>\n",
       "    </tr>\n",
       "    <tr>\n",
       "      <th>t</th>\n",
       "      <td>-0.902475</td>\n",
       "      <td>-0.889237</td>\n",
       "      <td>1.000000</td>\n",
       "      <td>-0.896412</td>\n",
       "      <td>0.998108</td>\n",
       "      <td>-0.857299</td>\n",
       "      <td>0.954860</td>\n",
       "      <td>-0.889237</td>\n",
       "      <td>-0.939742</td>\n",
       "    </tr>\n",
       "    <tr>\n",
       "      <th>lm</th>\n",
       "      <td>0.981078</td>\n",
       "      <td>0.991738</td>\n",
       "      <td>-0.896412</td>\n",
       "      <td>1.000000</td>\n",
       "      <td>-0.898527</td>\n",
       "      <td>0.964703</td>\n",
       "      <td>-0.901102</td>\n",
       "      <td>0.991738</td>\n",
       "      <td>0.931231</td>\n",
       "    </tr>\n",
       "    <tr>\n",
       "      <th>bo</th>\n",
       "      <td>-0.903140</td>\n",
       "      <td>-0.889210</td>\n",
       "      <td>0.998108</td>\n",
       "      <td>-0.898527</td>\n",
       "      <td>1.000000</td>\n",
       "      <td>-0.862136</td>\n",
       "      <td>0.950189</td>\n",
       "      <td>-0.889210</td>\n",
       "      <td>-0.940500</td>\n",
       "    </tr>\n",
       "    <tr>\n",
       "      <th>rem</th>\n",
       "      <td>0.950600</td>\n",
       "      <td>0.935572</td>\n",
       "      <td>-0.857299</td>\n",
       "      <td>0.964703</td>\n",
       "      <td>-0.862136</td>\n",
       "      <td>1.000000</td>\n",
       "      <td>-0.893952</td>\n",
       "      <td>0.935572</td>\n",
       "      <td>0.940621</td>\n",
       "    </tr>\n",
       "    <tr>\n",
       "      <th>sr.1</th>\n",
       "      <td>-0.920554</td>\n",
       "      <td>-0.891855</td>\n",
       "      <td>0.954860</td>\n",
       "      <td>-0.901102</td>\n",
       "      <td>0.950189</td>\n",
       "      <td>-0.893952</td>\n",
       "      <td>1.000000</td>\n",
       "      <td>-0.891855</td>\n",
       "      <td>-0.938125</td>\n",
       "    </tr>\n",
       "    <tr>\n",
       "      <th>hr</th>\n",
       "      <td>0.976268</td>\n",
       "      <td>1.000000</td>\n",
       "      <td>-0.889237</td>\n",
       "      <td>0.991738</td>\n",
       "      <td>-0.889210</td>\n",
       "      <td>0.935572</td>\n",
       "      <td>-0.891855</td>\n",
       "      <td>1.000000</td>\n",
       "      <td>0.920463</td>\n",
       "    </tr>\n",
       "    <tr>\n",
       "      <th>sl</th>\n",
       "      <td>0.923974</td>\n",
       "      <td>0.920463</td>\n",
       "      <td>-0.939742</td>\n",
       "      <td>0.931231</td>\n",
       "      <td>-0.940500</td>\n",
       "      <td>0.940621</td>\n",
       "      <td>-0.938125</td>\n",
       "      <td>0.920463</td>\n",
       "      <td>1.000000</td>\n",
       "    </tr>\n",
       "  </tbody>\n",
       "</table>\n",
       "</div>"
      ],
      "text/plain": [
       "            sr        rr         t        lm        bo       rem      sr.1  \\\n",
       "sr    1.000000  0.976268 -0.902475  0.981078 -0.903140  0.950600 -0.920554   \n",
       "rr    0.976268  1.000000 -0.889237  0.991738 -0.889210  0.935572 -0.891855   \n",
       "t    -0.902475 -0.889237  1.000000 -0.896412  0.998108 -0.857299  0.954860   \n",
       "lm    0.981078  0.991738 -0.896412  1.000000 -0.898527  0.964703 -0.901102   \n",
       "bo   -0.903140 -0.889210  0.998108 -0.898527  1.000000 -0.862136  0.950189   \n",
       "rem   0.950600  0.935572 -0.857299  0.964703 -0.862136  1.000000 -0.893952   \n",
       "sr.1 -0.920554 -0.891855  0.954860 -0.901102  0.950189 -0.893952  1.000000   \n",
       "hr    0.976268  1.000000 -0.889237  0.991738 -0.889210  0.935572 -0.891855   \n",
       "sl    0.923974  0.920463 -0.939742  0.931231 -0.940500  0.940621 -0.938125   \n",
       "\n",
       "            hr        sl  \n",
       "sr    0.976268  0.923974  \n",
       "rr    1.000000  0.920463  \n",
       "t    -0.889237 -0.939742  \n",
       "lm    0.991738  0.931231  \n",
       "bo   -0.889210 -0.940500  \n",
       "rem   0.935572  0.940621  \n",
       "sr.1 -0.891855 -0.938125  \n",
       "hr    1.000000  0.920463  \n",
       "sl    0.920463  1.000000  "
      ]
     },
     "execution_count": 5,
     "metadata": {},
     "output_type": "execute_result"
    }
   ],
   "source": [
    "sleepData.corr()"
   ]
  },
  {
   "cell_type": "code",
   "execution_count": 6,
   "id": "f8df4464",
   "metadata": {},
   "outputs": [],
   "source": [
    "# Split the Dataset into Train and Test\n",
    "train, test = train_test_split(sleepData, test_size = 0.25)\n",
    "X_train = pd.DataFrame(train[[\"sr\", \"rr\", \"t\", \"lm\", \"bo\", \"rem\", \"sr.1\", \"hr\"]])\n",
    "y_train = pd.DataFrame(train[\"sl\"])\n",
    "X_test = pd.DataFrame(test[[\"sr\", \"rr\", \"t\", \"lm\", \"bo\", \"rem\", \"sr.1\", \"hr\"]])\n",
    "y_test = pd.DataFrame(test[\"sl\"])"
   ]
  },
  {
   "cell_type": "code",
   "execution_count": 7,
   "id": "77a7c89b",
   "metadata": {},
   "outputs": [
    {
     "name": "stdout",
     "output_type": "stream",
     "text": [
      "Train Set : (472, 1) (472, 8)\n",
      "Test Set  : (158, 1) (158, 8)\n",
      "Intercept of Regression \t: b =  [1.74455896]\n",
      "Coefficients of Regression \t: a =  [[-0.01563795  0.04520109 -0.37436154 -0.38518644  0.0152963   0.09446428\n",
      "   0.02644743  0.11300274]]\n",
      "\n"
     ]
    },
    {
     "data": {
      "text/html": [
       "<div>\n",
       "<style scoped>\n",
       "    .dataframe tbody tr th:only-of-type {\n",
       "        vertical-align: middle;\n",
       "    }\n",
       "\n",
       "    .dataframe tbody tr th {\n",
       "        vertical-align: top;\n",
       "    }\n",
       "\n",
       "    .dataframe thead th {\n",
       "        text-align: right;\n",
       "    }\n",
       "</style>\n",
       "<table border=\"1\" class=\"dataframe\">\n",
       "  <thead>\n",
       "    <tr style=\"text-align: right;\">\n",
       "      <th></th>\n",
       "      <th>Predictors</th>\n",
       "      <th>Coefficients</th>\n",
       "    </tr>\n",
       "  </thead>\n",
       "  <tbody>\n",
       "    <tr>\n",
       "      <th>0</th>\n",
       "      <td>sr</td>\n",
       "      <td>-0.015638</td>\n",
       "    </tr>\n",
       "    <tr>\n",
       "      <th>1</th>\n",
       "      <td>rr</td>\n",
       "      <td>0.045201</td>\n",
       "    </tr>\n",
       "    <tr>\n",
       "      <th>2</th>\n",
       "      <td>t</td>\n",
       "      <td>-0.374362</td>\n",
       "    </tr>\n",
       "    <tr>\n",
       "      <th>3</th>\n",
       "      <td>lm</td>\n",
       "      <td>-0.385186</td>\n",
       "    </tr>\n",
       "    <tr>\n",
       "      <th>4</th>\n",
       "      <td>bo</td>\n",
       "      <td>0.015296</td>\n",
       "    </tr>\n",
       "    <tr>\n",
       "      <th>5</th>\n",
       "      <td>rem</td>\n",
       "      <td>0.094464</td>\n",
       "    </tr>\n",
       "    <tr>\n",
       "      <th>6</th>\n",
       "      <td>sr.1</td>\n",
       "      <td>0.026447</td>\n",
       "    </tr>\n",
       "    <tr>\n",
       "      <th>7</th>\n",
       "      <td>hr</td>\n",
       "      <td>0.113003</td>\n",
       "    </tr>\n",
       "  </tbody>\n",
       "</table>\n",
       "</div>"
      ],
      "text/plain": [
       "  Predictors  Coefficients\n",
       "0         sr     -0.015638\n",
       "1         rr      0.045201\n",
       "2          t     -0.374362\n",
       "3         lm     -0.385186\n",
       "4         bo      0.015296\n",
       "5        rem      0.094464\n",
       "6       sr.1      0.026447\n",
       "7         hr      0.113003"
      ]
     },
     "execution_count": 7,
     "metadata": {},
     "output_type": "execute_result"
    }
   ],
   "source": [
    "# Check the sample sizes\n",
    "print(\"Train Set :\", y_train.shape, X_train.shape)\n",
    "print(\"Test Set  :\", y_test.shape, X_test.shape)\n",
    "\n",
    "# Linear Regression using Train Data\n",
    "linreg = LinearRegression()         # create the linear regression object\n",
    "linreg.fit(X_train, y_train)        # train the linear regression model\n",
    "\n",
    "# Coefficients of the Linear Regression line\n",
    "print('Intercept of Regression \\t: b = ', linreg.intercept_)\n",
    "print('Coefficients of Regression \\t: a = ', linreg.coef_)\n",
    "print()\n",
    "\n",
    "# Print the Coefficients against Predictors\n",
    "pd.DataFrame(list(zip(X_train.columns, linreg.coef_[0])), columns = [\"Predictors\", \"Coefficients\"])"
   ]
  },
  {
   "cell_type": "code",
   "execution_count": 8,
   "id": "9f66c356",
   "metadata": {},
   "outputs": [
    {
     "name": "stdout",
     "output_type": "stream",
     "text": [
      "Goodness of Fit of Model \tTrain Dataset\n",
      "Explained Variance (R^2) \t: 0.9709702919154315\n",
      "Mean Squared Error (MSE) \t: 0.031341696874358116\n",
      "\n",
      "Goodness of Fit of Model \tTest Dataset\n",
      "Explained Variance (R^2) \t: 0.9662549163231108\n",
      "Mean Squared Error (MSE) \t: 0.03098886569831302\n",
      "\n"
     ]
    }
   ],
   "source": [
    "# Predict the Total values from Predictors\n",
    "y_train_pred = linreg.predict(X_train)\n",
    "y_test_pred = linreg.predict(X_test)\n",
    "\n",
    "# Import mean_squared_error from sklearn\n",
    "from sklearn.metrics import mean_squared_error\n",
    "\n",
    "# Check the Goodness of Fit (on Train Data)\n",
    "print(\"Goodness of Fit of Model \\tTrain Dataset\")\n",
    "print(\"Explained Variance (R^2) \\t:\", linreg.score(X_train, y_train))\n",
    "print(\"Mean Squared Error (MSE) \\t:\", mean_squared_error(y_train, y_train_pred))\n",
    "print()\n",
    "\n",
    "# Check the Goodness of Fit (on Test Data)\n",
    "print(\"Goodness of Fit of Model \\tTest Dataset\")\n",
    "print(\"Explained Variance (R^2) \\t:\", linreg.score(X_test, y_test))\n",
    "print(\"Mean Squared Error (MSE) \\t:\", mean_squared_error(y_test, y_test_pred))\n",
    "print()"
   ]
  },
  {
   "cell_type": "code",
   "execution_count": 9,
   "id": "7fcc9b88",
   "metadata": {},
   "outputs": [
    {
     "name": "stdout",
     "output_type": "stream",
     "text": [
      "-----Predicting for sr-----\n",
      "Train Set : (472, 1) (472, 4)\n",
      "Test Set  : (158, 1) (158, 4)\n",
      "Intercept of Regression \t: b =  [27.25579268]\n",
      "Coefficients of Regression \t: a =  [[-1.86361514  5.99699158 -2.72618207  1.49498784]]\n",
      "\n",
      "Goodness of Fit of Model \tTrain Dataset\n",
      "Explained Variance (R^2) \t: 0.9668990622522861\n",
      "Mean Squared Error (MSE) \t: 12.490505960270678\n",
      "\n",
      "Goodness of Fit of Model \tTest Dataset\n",
      "Explained Variance (R^2) \t: 0.9653963938453956\n",
      "Mean Squared Error (MSE) \t: 12.655813628224896\n",
      "\n",
      "-----Predicting for rr-----\n",
      "Train Set : (472, 1) (472, 4)\n",
      "Test Set  : (158, 1) (158, 4)\n",
      "Intercept of Regression \t: b =  [-4.]\n",
      "Coefficients of Regression \t: a =  [[-1.40741585e-15  3.38618023e-15 -1.40165657e-15  4.00000000e-01]]\n",
      "\n",
      "Goodness of Fit of Model \tTrain Dataset\n",
      "Explained Variance (R^2) \t: 1.0\n",
      "Mean Squared Error (MSE) \t: 1.7087529438516155e-29\n",
      "\n",
      "Goodness of Fit of Model \tTest Dataset\n",
      "Explained Variance (R^2) \t: 1.0\n",
      "Mean Squared Error (MSE) \t: 1.9651623562974067e-29\n",
      "\n",
      "-----Predicting for lm-----\n",
      "Train Set : (472, 1) (472, 4)\n",
      "Test Set  : (158, 1) (158, 4)\n",
      "Intercept of Regression \t: b =  [4.023305]\n",
      "Coefficients of Regression \t: a =  [[-0.12533441  1.34027888 -0.68513392  0.39000327]]\n",
      "\n",
      "Goodness of Fit of Model \tTrain Dataset\n",
      "Explained Variance (R^2) \t: 0.9864549662244521\n",
      "Mean Squared Error (MSE) \t: 0.24672604299084352\n",
      "\n",
      "Goodness of Fit of Model \tTest Dataset\n",
      "Explained Variance (R^2) \t: 0.9869450521047105\n",
      "Mean Squared Error (MSE) \t: 0.25026390486154937\n",
      "\n",
      "-----Predicting for rem-----\n",
      "Train Set : (472, 1) (472, 4)\n",
      "Test Set  : (158, 1) (158, 4)\n",
      "Intercept of Regression \t: b =  [111.41377606]\n",
      "Coefficients of Regression \t: a =  [[-2.29837762 13.24589995 -5.67694973  0.83871875]]\n",
      "\n",
      "Goodness of Fit of Model \tTrain Dataset\n",
      "Explained Variance (R^2) \t: 0.9117550976796773\n",
      "Mean Squared Error (MSE) \t: 13.072683547045283\n",
      "\n",
      "Goodness of Fit of Model \tTest Dataset\n",
      "Explained Variance (R^2) \t: 0.9065715327801472\n",
      "Mean Squared Error (MSE) \t: 11.261518880587904\n",
      "\n",
      "-----Predicting for sl-----\n",
      "Train Set : (472, 1) (472, 4)\n",
      "Test Set  : (158, 1) (158, 4)\n",
      "Intercept of Regression \t: b =  [10.35788181]\n",
      "Coefficients of Regression \t: a =  [[-0.10546804  0.19456662 -0.18830868  0.03375104]]\n",
      "\n",
      "Goodness of Fit of Model \tTrain Dataset\n",
      "Explained Variance (R^2) \t: 0.9251663277942657\n",
      "Mean Squared Error (MSE) \t: 0.07625118018076044\n",
      "\n",
      "Goodness of Fit of Model \tTest Dataset\n",
      "Explained Variance (R^2) \t: 0.9301154055440561\n",
      "Mean Squared Error (MSE) \t: 0.07675995753813411\n",
      "\n"
     ]
    }
   ],
   "source": [
    "predictingFactors = [\"sr\", \"rr\", \"lm\", \"rem\", \"sl\"]\n",
    "\n",
    "for i in predictingFactors:\n",
    "    print(\"-----Predicting for {}-----\".format(i))\n",
    "    # Predicting snoring rate (sr) with body temp (t), sleep hours (sr), blood oxygen (bo), heart rate (hr)\n",
    "    y = pd.DataFrame(sleepData[i])\n",
    "    X = pd.DataFrame(sleepData[[\"sr.1\", \"t\", \"bo\", \"hr\"]])\n",
    "\n",
    "    # Split the Dataset into Train and Test\n",
    "    X_train, X_test, y_train, y_test = train_test_split(X, y, test_size = 0.25)\n",
    "\n",
    "    # Check the sample sizes\n",
    "    print(\"Train Set :\", y_train.shape, X_train.shape)\n",
    "    print(\"Test Set  :\", y_test.shape, X_test.shape)\n",
    "\n",
    "    # Linear Regression using Train Data\n",
    "    linreg = LinearRegression()         # create the linear regression object\n",
    "    linreg.fit(X_train, y_train)        # train the linear regression model\n",
    "\n",
    "    # Coefficients of the Linear Regression line\n",
    "    print('Intercept of Regression \\t: b = ', linreg.intercept_)\n",
    "    print('Coefficients of Regression \\t: a = ', linreg.coef_)\n",
    "    print()\n",
    "\n",
    "    # Print the Coefficients against Predictors\n",
    "    pd.DataFrame(list(zip(X_train.columns, linreg.coef_[0])), columns = [\"Predictors\", \"Coefficients\"])\n",
    "\n",
    "    # Predict the Total values from Predictors\n",
    "    y_train_pred = linreg.predict(X_train)\n",
    "    y_test_pred = linreg.predict(X_test)\n",
    "\n",
    "    # Import mean_squared_error from sklearn\n",
    "    from sklearn.metrics import mean_squared_error\n",
    "\n",
    "    # Check the Goodness of Fit (on Train Data)\n",
    "    print(\"Goodness of Fit of Model \\tTrain Dataset\")\n",
    "    print(\"Explained Variance (R^2) \\t:\", linreg.score(X_train, y_train))\n",
    "    print(\"Mean Squared Error (MSE) \\t:\", mean_squared_error(y_train, y_train_pred))\n",
    "    print()\n",
    "\n",
    "    # Check the Goodness of Fit (on Test Data)\n",
    "    print(\"Goodness of Fit of Model \\tTest Dataset\")\n",
    "    print(\"Explained Variance (R^2) \\t:\", linreg.score(X_test, y_test))\n",
    "    print(\"Mean Squared Error (MSE) \\t:\", mean_squared_error(y_test, y_test_pred))\n",
    "    print()"
   ]
  },
  {
   "cell_type": "code",
   "execution_count": 10,
   "id": "faa00537",
   "metadata": {},
   "outputs": [
    {
     "data": {
      "text/html": [
       "<div>\n",
       "<style scoped>\n",
       "    .dataframe tbody tr th:only-of-type {\n",
       "        vertical-align: middle;\n",
       "    }\n",
       "\n",
       "    .dataframe tbody tr th {\n",
       "        vertical-align: top;\n",
       "    }\n",
       "\n",
       "    .dataframe thead th {\n",
       "        text-align: right;\n",
       "    }\n",
       "</style>\n",
       "<table border=\"1\" class=\"dataframe\">\n",
       "  <thead>\n",
       "    <tr style=\"text-align: right;\">\n",
       "      <th></th>\n",
       "      <th>sl</th>\n",
       "      <th>sr.1</th>\n",
       "    </tr>\n",
       "  </thead>\n",
       "  <tbody>\n",
       "    <tr>\n",
       "      <th>0</th>\n",
       "      <td>0</td>\n",
       "      <td>8.00</td>\n",
       "    </tr>\n",
       "    <tr>\n",
       "      <th>1</th>\n",
       "      <td>1</td>\n",
       "      <td>6.00</td>\n",
       "    </tr>\n",
       "    <tr>\n",
       "      <th>2</th>\n",
       "      <td>2</td>\n",
       "      <td>2.25</td>\n",
       "    </tr>\n",
       "    <tr>\n",
       "      <th>3</th>\n",
       "      <td>3</td>\n",
       "      <td>0.00</td>\n",
       "    </tr>\n",
       "  </tbody>\n",
       "</table>\n",
       "</div>"
      ],
      "text/plain": [
       "   sl  sr.1\n",
       "0   0  8.00\n",
       "1   1  6.00\n",
       "2   2  2.25\n",
       "3   3  0.00"
      ]
     },
     "execution_count": 10,
     "metadata": {},
     "output_type": "execute_result"
    }
   ],
   "source": [
    "sleepData[['sl', 'sr.1']].groupby(['sl'], as_index=False).mean().sort_values(by='sr.1', ascending=False)"
   ]
  },
  {
   "cell_type": "code",
   "execution_count": 11,
   "id": "9290284c",
   "metadata": {},
   "outputs": [
    {
     "data": {
      "text/html": [
       "<div>\n",
       "<style scoped>\n",
       "    .dataframe tbody tr th:only-of-type {\n",
       "        vertical-align: middle;\n",
       "    }\n",
       "\n",
       "    .dataframe tbody tr th {\n",
       "        vertical-align: top;\n",
       "    }\n",
       "\n",
       "    .dataframe thead th {\n",
       "        text-align: right;\n",
       "    }\n",
       "</style>\n",
       "<table border=\"1\" class=\"dataframe\">\n",
       "  <thead>\n",
       "    <tr style=\"text-align: right;\">\n",
       "      <th></th>\n",
       "      <th>sl</th>\n",
       "      <th>t</th>\n",
       "    </tr>\n",
       "  </thead>\n",
       "  <tbody>\n",
       "    <tr>\n",
       "      <th>0</th>\n",
       "      <td>0</td>\n",
       "      <td>36.388889</td>\n",
       "    </tr>\n",
       "    <tr>\n",
       "      <th>1</th>\n",
       "      <td>1</td>\n",
       "      <td>35.000000</td>\n",
       "    </tr>\n",
       "    <tr>\n",
       "      <th>2</th>\n",
       "      <td>2</td>\n",
       "      <td>33.333333</td>\n",
       "    </tr>\n",
       "    <tr>\n",
       "      <th>3</th>\n",
       "      <td>3</td>\n",
       "      <td>30.833333</td>\n",
       "    </tr>\n",
       "  </tbody>\n",
       "</table>\n",
       "</div>"
      ],
      "text/plain": [
       "   sl          t\n",
       "0   0  36.388889\n",
       "1   1  35.000000\n",
       "2   2  33.333333\n",
       "3   3  30.833333"
      ]
     },
     "execution_count": 11,
     "metadata": {},
     "output_type": "execute_result"
    }
   ],
   "source": [
    "sleepData[['sl', 't']].groupby(['sl'], as_index=False).mean().sort_values(by='t', ascending=False)"
   ]
  },
  {
   "cell_type": "code",
   "execution_count": 12,
   "id": "93432bbb",
   "metadata": {},
   "outputs": [
    {
     "data": {
      "text/plain": [
       "<seaborn.axisgrid.FacetGrid at 0x7f7f200b2cd0>"
      ]
     },
     "execution_count": 12,
     "metadata": {},
     "output_type": "execute_result"
    },
    {
     "data": {
      "image/png": "[encoded data removed]",
      "text/plain": [
       "<Figure size 864x216 with 4 Axes>"
      ]
     },
     "metadata": {},
     "output_type": "display_data"
    },
    {
     "data": {
      "image/png": "[encoded data removed]",
      "text/plain": [
       "<Figure size 864x216 with 4 Axes>"
      ]
     },
     "metadata": {},
     "output_type": "display_data"
    }
   ],
   "source": [
    "# Plotting the graph of sleep hours vs stress level\n",
    "\n",
    "g = sns.FacetGrid(sleepData, col='sl')\n",
    "g.map(plt.hist, 'sr.1', bins=3)\n",
    "\n",
    "# Plotting the graph of body temperature vs stress level\n",
    "\n",
    "g = sns.FacetGrid(sleepData, col='sl')\n",
    "g.map(plt.hist, 't', bins=3)"
   ]
  },
  {
   "cell_type": "code",
   "execution_count": 13,
   "id": "2d8f8191",
   "metadata": {},
   "outputs": [
    {
     "name": "stdout",
     "output_type": "stream",
     "text": [
      "<class 'pandas.core.frame.DataFrame'>\n",
      "RangeIndex: 630 entries, 0 to 629\n",
      "Data columns (total 9 columns):\n",
      " #   Column  Non-Null Count  Dtype  \n",
      "---  ------  --------------  -----  \n",
      " 0   sr      630 non-null    float64\n",
      " 1   rr      630 non-null    float64\n",
      " 2   t       630 non-null    float64\n",
      " 3   lm      630 non-null    float64\n",
      " 4   bo      630 non-null    float64\n",
      " 5   rem     630 non-null    float64\n",
      " 6   sr.1    630 non-null    float64\n",
      " 7   hr      630 non-null    float64\n",
      " 8   sl      630 non-null    int64  \n",
      "dtypes: float64(8), int64(1)\n",
      "memory usage: 44.4 KB\n"
     ]
    }
   ],
   "source": [
    "# Getting to know the info of sleepData\n",
    "sleepData.info()"
   ]
  },
  {
   "cell_type": "code",
   "execution_count": 14,
   "id": "8801bab4",
   "metadata": {},
   "outputs": [
    {
     "data": {
      "text/plain": [
       "<matplotlib.collections.PathCollection at 0x7f7f3029fd00>"
      ]
     },
     "execution_count": 14,
     "metadata": {},
     "output_type": "execute_result"
    },
    {
     "data": {
      "image/png": "[encoded data removed]",
      "text/plain": [
       "<Figure size 1728x864 with 2 Axes>"
      ]
     },
     "metadata": {},
     "output_type": "display_data"
    }
   ],
   "source": [
    "# Trying to see the scatterplot first for \"sl\" and \"sr.1\", then followed by \"sl\" and \"t\"\n",
    "sl_sleepData = pd.DataFrame(sleepData[\"sl\"])\n",
    "sleephrs_sleepData = pd.DataFrame(sleepData[\"sr.1\"])\n",
    "t_sleepData = pd.DataFrame(sleepData[\"t\"])\n",
    "\n",
    "f, axes = plt.subplots(1, 2, figsize=(24, 12))\n",
    "axes[0].scatter(sleephrs_sleepData, sl_sleepData)\n",
    "axes[1].scatter(t_sleepData, sl_sleepData)"
   ]
  },
  {
   "cell_type": "markdown",
   "id": "be64d61e",
   "metadata": {},
   "source": [
    "### Trying for clusters"
   ]
  },
  {
   "cell_type": "markdown",
   "id": "75738763",
   "metadata": {},
   "source": [
    "https://www.freecodecamp.org/news/how-to-build-and-train-k-nearest-neighbors-ml-models-in-python/\n",
    "\n",
    "- Since K means clustering algorithm is an unsupervised machine learning algorithm, we do not have to split the data set into training data and test data\n",
    "- Taking reference from: https://github.com/artikwh/K-Means-Clustering-Arti-Kushwaha/blob/main/K_Means_Clusteing_Arti_Kushwaha.ipynb"
   ]
  },
  {
   "cell_type": "markdown",
   "id": "054a762b",
   "metadata": {},
   "source": [
    "# \"Sleeping hours\"\n",
    "### Getting the optimum number of clusters for \"Sleeping hours\""
   ]
  },
  {
   "cell_type": "code",
   "execution_count": 15,
   "id": "ea5a7141",
   "metadata": {
    "scrolled": false
   },
   "outputs": [
    {
     "name": "stdout",
     "output_type": "stream",
     "text": [
      "[5868.828000000001, 1085.8992663866356, 486.72100696802664, 259.89231441727213, 162.39695130974428, 105.92924904635416, 78.0975183618242, 59.588657351886575, 45.89897456108964, 36.658767850030344, 30.135890157657563, 25.53024212773706, 21.380725924799705, 18.400841107515156, 15.823479483952035, 14.0874858261616, 12.475297538155491, 11.070846750905433, 9.810365064205925, 8.950255733333332]\n"
     ]
    },
    {
     "data": {
      "image/png": "[encoded data removed]",
      "text/plain": [
       "<Figure size 432x288 with 1 Axes>"
      ]
     },
     "metadata": {},
     "output_type": "display_data"
    }
   ],
   "source": [
    "x = sleephrs_sleepData.iloc[:, :].values\n",
    "wcs = []  #wcs stands for 'within cluster sum of squares'\n",
    "\n",
    "for i in range(1, 21):\n",
    "    model = KMeans(n_clusters = i, init = 'k-means++', \n",
    "                    max_iter = 250, n_init = 15, random_state = 0)\n",
    "    model.fit(x)\n",
    "    wcs.append(model.inertia_)\n",
    "\n",
    "print(wcs)\n",
    "\n",
    "plt.plot(range(1, 21), wcs, color = 'r')\n",
    "plt.title('Number of Clusters Vs WCS')\n",
    "plt.xlabel('Number of Clusters')\n",
    "plt.ylabel('Within Clusters Sum of Squares(wcs)')\n",
    "plt.annotate('Elbow', xytext=(8, 2000), xy=(4,300), arrowprops={'facecolor':'green'})\n",
    "plt.grid() \n",
    "plt.show()"
   ]
  },
  {
   "cell_type": "markdown",
   "id": "05f4eefb",
   "metadata": {},
   "source": [
    "### Elbow occurs where the line graph bends and wcs(within cluster sum of squares ) does not decrease significantly with every iteration. From the above graph, Elbow occurs at number of clusters equivalent to 4.\n",
    "### So optimum number of clusters for this dataset = 4\n",
    "### Since the optimum number of clusters is not what we wanted, which is 5, we can see that clustering for all the \"Sleeping Hours\" may not help to identify the pattern or to predict the \"stress levels\""
   ]
  },
  {
   "cell_type": "code",
   "execution_count": 16,
   "id": "93c4b974",
   "metadata": {},
   "outputs": [
    {
     "data": {
      "text/plain": [
       "array([[7.18545455e-02, 2.76363636e+00],\n",
       "       [6.00000000e+00, 1.00000000e+00],\n",
       "       [3.86000000e+00, 2.00000000e+00],\n",
       "       [1.57764103e+00, 2.00000000e+00],\n",
       "       [8.00000000e+00, 4.44089210e-16]])"
      ]
     },
     "execution_count": 16,
     "metadata": {},
     "output_type": "execute_result"
    }
   ],
   "source": [
    "# Getting the data for \"sl\" and \"sr.1\"\n",
    "sleephrs_sleepData = pd.DataFrame(sleepData[[\"sr.1\", \"sl\"]])\n",
    "\n",
    "#Initialize the class object\n",
    "kmeans = KMeans(n_clusters= 5)\n",
    "kmeans.fit(sleephrs_sleepData)\n",
    "kmeans.cluster_centers_"
   ]
  },
  {
   "cell_type": "code",
   "execution_count": 17,
   "id": "a1f19503",
   "metadata": {},
   "outputs": [
    {
     "data": {
      "text/html": [
       "<div>\n",
       "<style scoped>\n",
       "    .dataframe tbody tr th:only-of-type {\n",
       "        vertical-align: middle;\n",
       "    }\n",
       "\n",
       "    .dataframe tbody tr th {\n",
       "        vertical-align: top;\n",
       "    }\n",
       "\n",
       "    .dataframe thead th {\n",
       "        text-align: right;\n",
       "    }\n",
       "</style>\n",
       "<table border=\"1\" class=\"dataframe\">\n",
       "  <thead>\n",
       "    <tr style=\"text-align: right;\">\n",
       "      <th></th>\n",
       "      <th>sr.1</th>\n",
       "      <th>sl</th>\n",
       "      <th>Clusters</th>\n",
       "    </tr>\n",
       "  </thead>\n",
       "  <tbody>\n",
       "    <tr>\n",
       "      <th>0</th>\n",
       "      <td>1.840</td>\n",
       "      <td>2</td>\n",
       "      <td>3</td>\n",
       "    </tr>\n",
       "    <tr>\n",
       "      <th>1</th>\n",
       "      <td>1.552</td>\n",
       "      <td>2</td>\n",
       "      <td>3</td>\n",
       "    </tr>\n",
       "    <tr>\n",
       "      <th>2</th>\n",
       "      <td>7.000</td>\n",
       "      <td>1</td>\n",
       "      <td>1</td>\n",
       "    </tr>\n",
       "    <tr>\n",
       "      <th>3</th>\n",
       "      <td>0.768</td>\n",
       "      <td>2</td>\n",
       "      <td>3</td>\n",
       "    </tr>\n",
       "    <tr>\n",
       "      <th>4</th>\n",
       "      <td>8.248</td>\n",
       "      <td>0</td>\n",
       "      <td>4</td>\n",
       "    </tr>\n",
       "  </tbody>\n",
       "</table>\n",
       "</div>"
      ],
      "text/plain": [
       "    sr.1  sl  Clusters\n",
       "0  1.840   2         3\n",
       "1  1.552   2         3\n",
       "2  7.000   1         1\n",
       "3  0.768   2         3\n",
       "4  8.248   0         4"
      ]
     },
     "execution_count": 17,
     "metadata": {},
     "output_type": "execute_result"
    }
   ],
   "source": [
    "sleephrs_sleepData[\"Clusters\"] = kmeans.labels_\n",
    "sleephrs_sleepData.head()"
   ]
  },
  {
   "cell_type": "code",
   "execution_count": 18,
   "id": "bacfb1a5",
   "metadata": {},
   "outputs": [
    {
     "data": {
      "text/plain": [
       "<AxesSubplot:xlabel='sr.1', ylabel='sl'>"
      ]
     },
     "execution_count": 18,
     "metadata": {},
     "output_type": "execute_result"
    },
    {
     "data": {
      "image/png": "[encoded data removed]",
      "text/plain": [
       "<Figure size 432x288 with 1 Axes>"
      ]
     },
     "metadata": {},
     "output_type": "display_data"
    }
   ],
   "source": [
    "sns.scatterplot(x=\"sr.1\", y=\"sl\", hue=\"Clusters\", data=sleephrs_sleepData)"
   ]
  },
  {
   "cell_type": "markdown",
   "id": "8ddc9b7e",
   "metadata": {},
   "source": [
    "### From the graph above, we can see that for the cluster at the second layer and third layer from the top, the points are not exactly what we wanted the clusters to be, thus it means that the clustering method for \"sleep hours\" may not be as good to predict the \"stress level\""
   ]
  },
  {
   "cell_type": "markdown",
   "id": "e76cd4c6",
   "metadata": {},
   "source": [
    "# \"Body temperature\"\n",
    "### Getting the optimum number of clusters for \"Body temperature\""
   ]
  },
  {
   "cell_type": "code",
   "execution_count": 19,
   "id": "a397cbd7",
   "metadata": {},
   "outputs": [
    {
     "name": "stdout",
     "output_type": "stream",
     "text": [
      "[2418.681481481482, 771.8820317314226, 345.28611926850766, 184.4427491281742, 118.46328035806957, 84.33731859577257, 60.21492170788305, 46.976764200880595, 37.539830823199026, 29.792970287574924, 24.619315206143156, 20.982707023621394, 17.93843923736587, 15.307713495839641, 13.347815461371166, 11.867933646739212, 10.50688533162526, 9.388526254414014, 8.396618292915178, 7.526924064150151]\n"
     ]
    },
    {
     "data": {
      "image/png": "[encoded data removed]",
      "text/plain": [
       "<Figure size 432x288 with 1 Axes>"
      ]
     },
     "metadata": {},
     "output_type": "display_data"
    }
   ],
   "source": [
    "x = t_sleepData.iloc[:, :].values\n",
    "wcs = []  #wcs stands for 'within cluster sum of squares'\n",
    "\n",
    "for i in range(1, 21):\n",
    "    model = KMeans(n_clusters = i, init = 'k-means++', \n",
    "                    max_iter = 250, n_init = 15, random_state = 0)\n",
    "    model.fit(x)\n",
    "    wcs.append(model.inertia_)\n",
    "\n",
    "print(wcs)\n",
    "\n",
    "plt.plot(range(1, 21), wcs, color = 'r')\n",
    "plt.title('Number of Clusters Vs WCS')\n",
    "plt.xlabel('Number of Clusters')\n",
    "plt.ylabel('Within Clusters Sum of Squares(wcs)')\n",
    "plt.annotate('Elbow', xytext=(8, 1000), xy=(5,200), arrowprops={'facecolor':'green'})\n",
    "plt.grid() \n",
    "plt.show()"
   ]
  },
  {
   "cell_type": "markdown",
   "id": "505c2c9d",
   "metadata": {},
   "source": [
    "### Elbow occurs where the line graph bends and wcs(within cluster sum of squares ) does not decrease significantly with every iteration. From the above graph, Elbow occurs at number of clusters equivalent to 5.\n",
    "### So optimum number of clusters for this dataset = 5\n",
    "### Since the optimum number of clusters is what we wanted, which is 5, we can see that clustering for all the \"Body Temperature\" may help to identify the pattern or to predict the \"stress levels\""
   ]
  },
  {
   "cell_type": "code",
   "execution_count": 20,
   "id": "d7296e1d",
   "metadata": {},
   "outputs": [
    {
     "data": {
      "text/plain": [
       "array([[3.50000000e+01, 1.00000000e+00],\n",
       "       [3.26195623e+01, 2.14393939e+00],\n",
       "       [3.06222222e+01, 3.00000000e+00],\n",
       "       [3.38319424e+01, 2.00000000e+00],\n",
       "       [3.63888889e+01, 4.44089210e-16]])"
      ]
     },
     "execution_count": 20,
     "metadata": {},
     "output_type": "execute_result"
    }
   ],
   "source": [
    "# Getting the data for \"sl\" and \"t\", and testing data\n",
    "t_sleepData = pd.DataFrame(sleepData[[\"t\", \"sl\"]])\n",
    "\n",
    "#Initialize the class object\n",
    "kmeans = KMeans(n_clusters= 5)\n",
    "kmeans.fit(t_sleepData)\n",
    "kmeans.cluster_centers_"
   ]
  },
  {
   "cell_type": "code",
   "execution_count": 21,
   "id": "4977031c",
   "metadata": {},
   "outputs": [
    {
     "data": {
      "text/html": [
       "<div>\n",
       "<style scoped>\n",
       "    .dataframe tbody tr th:only-of-type {\n",
       "        vertical-align: middle;\n",
       "    }\n",
       "\n",
       "    .dataframe tbody tr th {\n",
       "        vertical-align: top;\n",
       "    }\n",
       "\n",
       "    .dataframe thead th {\n",
       "        text-align: right;\n",
       "    }\n",
       "</style>\n",
       "<table border=\"1\" class=\"dataframe\">\n",
       "  <thead>\n",
       "    <tr style=\"text-align: right;\">\n",
       "      <th></th>\n",
       "      <th>t</th>\n",
       "      <th>sl</th>\n",
       "      <th>Clusters</th>\n",
       "    </tr>\n",
       "  </thead>\n",
       "  <tbody>\n",
       "    <tr>\n",
       "      <th>0</th>\n",
       "      <td>33.244444</td>\n",
       "      <td>2</td>\n",
       "      <td>3</td>\n",
       "    </tr>\n",
       "    <tr>\n",
       "      <th>1</th>\n",
       "      <td>33.084444</td>\n",
       "      <td>2</td>\n",
       "      <td>1</td>\n",
       "    </tr>\n",
       "    <tr>\n",
       "      <th>2</th>\n",
       "      <td>35.555556</td>\n",
       "      <td>1</td>\n",
       "      <td>0</td>\n",
       "    </tr>\n",
       "    <tr>\n",
       "      <th>3</th>\n",
       "      <td>32.648889</td>\n",
       "      <td>2</td>\n",
       "      <td>1</td>\n",
       "    </tr>\n",
       "    <tr>\n",
       "      <th>4</th>\n",
       "      <td>36.595556</td>\n",
       "      <td>0</td>\n",
       "      <td>4</td>\n",
       "    </tr>\n",
       "  </tbody>\n",
       "</table>\n",
       "</div>"
      ],
      "text/plain": [
       "           t  sl  Clusters\n",
       "0  33.244444   2         3\n",
       "1  33.084444   2         1\n",
       "2  35.555556   1         0\n",
       "3  32.648889   2         1\n",
       "4  36.595556   0         4"
      ]
     },
     "execution_count": 21,
     "metadata": {},
     "output_type": "execute_result"
    }
   ],
   "source": [
    "t_sleepData[\"Clusters\"] = kmeans.labels_\n",
    "t_sleepData.head()"
   ]
  },
  {
   "cell_type": "code",
   "execution_count": 22,
   "id": "64ccc052",
   "metadata": {},
   "outputs": [
    {
     "data": {
      "text/plain": [
       "<AxesSubplot:xlabel='t', ylabel='sl'>"
      ]
     },
     "execution_count": 22,
     "metadata": {},
     "output_type": "execute_result"
    },
    {
     "data": {
      "image/png": "[encoded data removed]",
      "text/plain": [
       "<Figure size 432x288 with 1 Axes>"
      ]
     },
     "metadata": {},
     "output_type": "display_data"
    }
   ],
   "source": [
    "sns.scatterplot(x=\"t\", y=\"sl\", hue=\"Clusters\", data=t_sleepData)"
   ]
  },
  {
   "cell_type": "markdown",
   "id": "3c701b9b",
   "metadata": {},
   "source": [
    "### From the graph above, we can see that for the cluster at the top, the points are not exactly what we wanted the cluster to be, thus it means that the clustering method for \"body temperature\" may not be as good to predict the \"stress level\""
   ]
  },
  {
   "cell_type": "markdown",
   "id": "9f9ac05b",
   "metadata": {},
   "source": [
    "# The whole dataset\n",
    "### Getting the optimum number of clusters for the whole sleepData"
   ]
  },
  {
   "cell_type": "code",
   "execution_count": 23,
   "id": "f98e9938",
   "metadata": {},
   "outputs": [
    {
     "name": "stdout",
     "output_type": "stream",
     "text": [
      "[426930.06948148145, 98301.5297471332, 50122.98225706903, 28766.065476069998, 18149.67132072885, 13502.08152988097, 10318.314459773319, 7829.723867259258, 6191.687579259258, 4813.5519952592595, 4005.9708598518523, 3296.1582411851855, 2701.438133333333, 2397.3625967407406, 2113.4529173333335, 1857.669822814815, 1609.1739792592596, 1403.1866291358024, 1275.577199012346, 1155.8087126913588]\n"
     ]
    },
    {
     "data": {
      "image/png": "[encoded data removed]",
      "text/plain": [
       "<Figure size 432x288 with 1 Axes>"
      ]
     },
     "metadata": {},
     "output_type": "display_data"
    }
   ],
   "source": [
    "x = sleepData.iloc[:, :].values\n",
    "wcs = []  #wcs stands for 'within cluster sum of squares'\n",
    "\n",
    "for i in range(1, 21):\n",
    "    model = KMeans(n_clusters = i, init = 'k-means++', \n",
    "                    max_iter = 250, n_init = 15, random_state = 0)\n",
    "    model.fit(x)\n",
    "    wcs.append(model.inertia_)\n",
    "\n",
    "print(wcs)\n",
    "\n",
    "plt.plot(range(1, 21), wcs, color = 'r')\n",
    "plt.title('Number of Clusters Vs WCS')\n",
    "plt.xlabel('Number of Clusters')\n",
    "plt.ylabel('Within Clusters Sum of Squares(wcs)')\n",
    "plt.annotate('Elbow', xytext=(7, 100000), xy=(4,35000), arrowprops={'facecolor':'green'})\n",
    "plt.grid() \n",
    "plt.show()"
   ]
  },
  {
   "cell_type": "markdown",
   "id": "678c7363",
   "metadata": {},
   "source": [
    "### Elbow occurs where the line graph bends and wcs(within cluster sum of squares ) does not decrease significantly with every iteration. From the above graph, Elbow occurs at number of clusters equivalent to 4.\n",
    "## So optimum number of clusters for this dataset = 4\n",
    "### Since the optimum number of clusters is not what we wanted, which is 5, we can see that clustering for all the other variables may not help to identify the pattern or to predict the \"stress levels\""
   ]
  },
  {
   "cell_type": "code",
   "execution_count": 24,
   "id": "6ea78cc5",
   "metadata": {},
   "outputs": [
    {
     "data": {
      "text/plain": [
       "<AxesSubplot:xlabel='t', ylabel='sl'>"
      ]
     },
     "execution_count": 24,
     "metadata": {},
     "output_type": "execute_result"
    },
    {
     "data": {
      "image/png": "[encoded data removed]",
      "text/plain": [
       "<Figure size 432x288 with 2 Axes>"
      ]
     },
     "metadata": {},
     "output_type": "display_data"
    },
    {
     "data": {
      "image/png": "[encoded data removed]",
      "text/plain": [
       "<Figure size 432x288 with 2 Axes>"
      ]
     },
     "metadata": {},
     "output_type": "display_data"
    }
   ],
   "source": [
    "#Initialize the class object\n",
    "kmeans = KMeans(n_clusters= 4)\n",
    "kmeans.fit(train)\n",
    "\n",
    "# Trying to visualise the scatterplot between stress level (sl) and sleep hours (sr.1)\n",
    "train['cl'] = kmeans.labels_\n",
    "train.plot.scatter('sr.1', 'sl', c='cl', colormap='gist_rainbow')\n",
    "\n",
    "# Trying to visualise the scatterplot between stress level (sl) and body temperature (t)\n",
    "train['cl'] = kmeans.labels_\n",
    "train.plot.scatter('t', 'sl', c='cl', colormap='gist_rainbow')"
   ]
  },
  {
   "cell_type": "markdown",
   "id": "42f9ff35",
   "metadata": {},
   "source": [
    "### This is evident as shown from the graph above, if we clustered the data based on all the other data columns, the clustering may not be what we wanted and thus, clustering based on just \"body temperature\" and \"sleep hours\" would be better to predict the \"stress levels\""
   ]
  }
 ],
 "metadata": {
  "kernelspec": {
   "display_name": "Python 3 (ipykernel)",
   "language": "python",
   "name": "python3"
  },
  "language_info": {
   "codemirror_mode": {
    "name": "ipython",
    "version": 3
   },
   "file_extension": ".py",
   "mimetype": "text/x-python",
   "name": "python",
   "nbconvert_exporter": "python",
   "pygments_lexer": "ipython3",
   "version": "3.8.5"
  }
 },
 "nbformat": 4,
 "nbformat_minor": 5
}
