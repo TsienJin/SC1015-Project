{
 "cells": [
  {
   "cell_type": "markdown",
   "id": "cae27f36",
   "metadata": {},
   "source": [
    "# Understanding the Catagorical Dataset for Classification"
   ]
  },
  {
   "cell_type": "code",
   "execution_count": 2,
   "id": "33b2b597",
   "metadata": {},
   "outputs": [],
   "source": [
    "# importing libraries\n",
    "\n",
    "import numpy as np\n",
    "import pandas as pd\n",
    "import matplotlib.pyplot as plt\n",
    "import seaborn as sns\n",
    "\n",
    "sns.set()"
   ]
  },
  {
   "cell_type": "code",
   "execution_count": null,
   "id": "25762376",
   "metadata": {},
   "outputs": [],
   "source": [
    "# importing data\n",
    "\n",
    "data = pd.read_csv('../data/')"
   ]
  }
 ],
 "metadata": {
  "kernelspec": {
   "display_name": "Python 3 (ipykernel)",
   "language": "python",
   "name": "python3"
  },
  "language_info": {
   "codemirror_mode": {
    "name": "ipython",
    "version": 3
   },
   "file_extension": ".py",
   "mimetype": "text/x-python",
   "name": "python",
   "nbconvert_exporter": "python",
   "pygments_lexer": "ipython3",
   "version": "3.9.7"
  }
 },
 "nbformat": 4,
 "nbformat_minor": 5
}
