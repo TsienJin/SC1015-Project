{
 "cells": [
  {
   "cell_type": "markdown",
   "id": "0efbaf5f",
   "metadata": {},
   "source": [
    "# Creating a ML model by using clustering of catagorical data."
   ]
  },
  {
   "cell_type": "code",
   "execution_count": 3,
   "id": "ee1bc7bf",
   "metadata": {},
   "outputs": [],
   "source": [
    "# importing modules\n",
    "\n",
    "import pandas as pd\n",
    "import numpy as np\n",
    "import seaborn as sns\n",
    "import matplotlib.pyplot as plt\n",
    "\n",
    "from sklearn.preprocessing import LabelEncoder\n",
    "from sklearn.model_selection import train_test_split\n",
    "from sklearn.cluster import KMeans\n",
    "\n",
    "sns.set()"
   ]
  },
  {
   "cell_type": "code",
   "execution_count": 4,
   "id": "4a3a287f",
   "metadata": {},
   "outputs": [
    {
     "data": {
      "text/html": [
       "<div>\n",
       "<style scoped>\n",
       "    .dataframe tbody tr th:only-of-type {\n",
       "        vertical-align: middle;\n",
       "    }\n",
       "\n",
       "    .dataframe tbody tr th {\n",
       "        vertical-align: top;\n",
       "    }\n",
       "\n",
       "    .dataframe thead th {\n",
       "        text-align: right;\n",
       "    }\n",
       "</style>\n",
       "<table border=\"1\" class=\"dataframe\">\n",
       "  <thead>\n",
       "    <tr style=\"text-align: right;\">\n",
       "      <th></th>\n",
       "      <th>Nervousness</th>\n",
       "      <th>Unable to control</th>\n",
       "      <th>Worry</th>\n",
       "      <th>Trouble in Relaxation</th>\n",
       "      <th>Restlessness</th>\n",
       "      <th>Irritability</th>\n",
       "      <th>Fear</th>\n",
       "      <th>Stress</th>\n",
       "    </tr>\n",
       "  </thead>\n",
       "  <tbody>\n",
       "    <tr>\n",
       "      <th>0</th>\n",
       "      <td>Severe</td>\n",
       "      <td>Moderate</td>\n",
       "      <td>Mild</td>\n",
       "      <td>No</td>\n",
       "      <td>Mild</td>\n",
       "      <td>Mild</td>\n",
       "      <td>No</td>\n",
       "      <td>Mild</td>\n",
       "    </tr>\n",
       "    <tr>\n",
       "      <th>1</th>\n",
       "      <td>No</td>\n",
       "      <td>No</td>\n",
       "      <td>Mild</td>\n",
       "      <td>Mild</td>\n",
       "      <td>No</td>\n",
       "      <td>Mild</td>\n",
       "      <td>Moderate</td>\n",
       "      <td>Mild</td>\n",
       "    </tr>\n",
       "    <tr>\n",
       "      <th>2</th>\n",
       "      <td>Severe</td>\n",
       "      <td>Severe</td>\n",
       "      <td>Mild</td>\n",
       "      <td>Severe</td>\n",
       "      <td>Severe</td>\n",
       "      <td>Mild</td>\n",
       "      <td>Severe</td>\n",
       "      <td>Severe</td>\n",
       "    </tr>\n",
       "    <tr>\n",
       "      <th>3</th>\n",
       "      <td>No</td>\n",
       "      <td>Severe</td>\n",
       "      <td>Severe</td>\n",
       "      <td>Mild</td>\n",
       "      <td>Severe</td>\n",
       "      <td>No</td>\n",
       "      <td>Severe</td>\n",
       "      <td>Moderate</td>\n",
       "    </tr>\n",
       "    <tr>\n",
       "      <th>4</th>\n",
       "      <td>Mild</td>\n",
       "      <td>No</td>\n",
       "      <td>No</td>\n",
       "      <td>No</td>\n",
       "      <td>No</td>\n",
       "      <td>No</td>\n",
       "      <td>Mild</td>\n",
       "      <td>No</td>\n",
       "    </tr>\n",
       "    <tr>\n",
       "      <th>...</th>\n",
       "      <td>...</td>\n",
       "      <td>...</td>\n",
       "      <td>...</td>\n",
       "      <td>...</td>\n",
       "      <td>...</td>\n",
       "      <td>...</td>\n",
       "      <td>...</td>\n",
       "      <td>...</td>\n",
       "    </tr>\n",
       "    <tr>\n",
       "      <th>16379</th>\n",
       "      <td>Mild</td>\n",
       "      <td>Severe</td>\n",
       "      <td>Mild</td>\n",
       "      <td>No</td>\n",
       "      <td>Moderate</td>\n",
       "      <td>No</td>\n",
       "      <td>Mild</td>\n",
       "      <td>Mild</td>\n",
       "    </tr>\n",
       "    <tr>\n",
       "      <th>16380</th>\n",
       "      <td>Mild</td>\n",
       "      <td>No</td>\n",
       "      <td>No</td>\n",
       "      <td>No</td>\n",
       "      <td>Severe</td>\n",
       "      <td>No</td>\n",
       "      <td>No</td>\n",
       "      <td>No</td>\n",
       "    </tr>\n",
       "    <tr>\n",
       "      <th>16381</th>\n",
       "      <td>No</td>\n",
       "      <td>Moderate</td>\n",
       "      <td>Moderate</td>\n",
       "      <td>Mild</td>\n",
       "      <td>Severe</td>\n",
       "      <td>No</td>\n",
       "      <td>Moderate</td>\n",
       "      <td>Mild</td>\n",
       "    </tr>\n",
       "    <tr>\n",
       "      <th>16382</th>\n",
       "      <td>Severe</td>\n",
       "      <td>Mild</td>\n",
       "      <td>Severe</td>\n",
       "      <td>Mild</td>\n",
       "      <td>No</td>\n",
       "      <td>Mild</td>\n",
       "      <td>Severe</td>\n",
       "      <td>Moderate</td>\n",
       "    </tr>\n",
       "    <tr>\n",
       "      <th>16383</th>\n",
       "      <td>Moderate</td>\n",
       "      <td>Moderate</td>\n",
       "      <td>Moderate</td>\n",
       "      <td>Moderate</td>\n",
       "      <td>Severe</td>\n",
       "      <td>Moderate</td>\n",
       "      <td>Moderate</td>\n",
       "      <td>Moderate</td>\n",
       "    </tr>\n",
       "  </tbody>\n",
       "</table>\n",
       "<p>16384 rows × 8 columns</p>\n",
       "</div>"
      ],
      "text/plain": [
       "      Nervousness Unable to control     Worry Trouble in Relaxation  \\\n",
       "0          Severe          Moderate      Mild                    No   \n",
       "1              No                No      Mild                  Mild   \n",
       "2          Severe            Severe      Mild                Severe   \n",
       "3              No            Severe    Severe                  Mild   \n",
       "4            Mild                No        No                    No   \n",
       "...           ...               ...       ...                   ...   \n",
       "16379        Mild            Severe      Mild                    No   \n",
       "16380        Mild                No        No                    No   \n",
       "16381          No          Moderate  Moderate                  Mild   \n",
       "16382      Severe              Mild    Severe                  Mild   \n",
       "16383    Moderate          Moderate  Moderate              Moderate   \n",
       "\n",
       "      Restlessness Irritability      Fear    Stress  \n",
       "0             Mild         Mild        No      Mild  \n",
       "1               No         Mild  Moderate      Mild  \n",
       "2           Severe         Mild    Severe    Severe  \n",
       "3           Severe           No    Severe  Moderate  \n",
       "4               No           No      Mild        No  \n",
       "...            ...          ...       ...       ...  \n",
       "16379     Moderate           No      Mild      Mild  \n",
       "16380       Severe           No        No        No  \n",
       "16381       Severe           No  Moderate      Mild  \n",
       "16382           No         Mild    Severe  Moderate  \n",
       "16383       Severe     Moderate  Moderate  Moderate  \n",
       "\n",
       "[16384 rows x 8 columns]"
      ]
     },
     "execution_count": 4,
     "metadata": {},
     "output_type": "execute_result"
    }
   ],
   "source": [
    "# import data set\n",
    "\n",
    "dataAll = pd.read_csv('../data/dataset.csv')\n",
    "dataAll"
   ]
  },
  {
   "cell_type": "code",
   "execution_count": 5,
   "id": "71eb84da",
   "metadata": {},
   "outputs": [],
   "source": [
    "# encoding the labels\n",
    "\n",
    "intensity = {\n",
    "    'No': 0,\n",
    "    'Mild': 1,\n",
    "    'Moderate': 2,\n",
    "    'Severe': 3,\n",
    "}\n",
    "\n",
    "newData = {}\n",
    "\n",
    "for colName, colData in dataAll.iteritems():\n",
    "    newArr = []\n",
    "    for item in colData:\n",
    "        newArr.append(intensity[item])\n",
    "        \n",
    "    newData[f'{colName}_Label'] = newArr\n",
    "    \n",
    "dataLabeled = pd.DataFrame.from_dict(newData)\n",
    "dataLabeled\n",
    "\n",
    "\n",
    "### writing data\n",
    "# dataLabeled.to_csv('../data/labeled_data.csv', index=False)"
   ]
  },
  {
   "cell_type": "code",
   "execution_count": 53,
   "id": "d8331dee",
   "metadata": {},
   "outputs": [],
   "source": [
    "# splitting model into train and test\n",
    "\n",
    "dataTrain, dataTest = train_test_split(dataLabeled, train_size=0.8)"
   ]
  },
  {
   "cell_type": "code",
   "execution_count": 32,
   "id": "48e31d79",
   "metadata": {},
   "outputs": [
    {
     "data": {
      "text/plain": [
       "(13107, 8)"
      ]
     },
     "execution_count": 32,
     "metadata": {},
     "output_type": "execute_result"
    }
   ],
   "source": [
    "dataTrain.shape"
   ]
  },
  {
   "cell_type": "code",
   "execution_count": 33,
   "id": "0a26c7f3",
   "metadata": {},
   "outputs": [
    {
     "data": {
      "text/plain": [
       "(3277, 8)"
      ]
     },
     "execution_count": 33,
     "metadata": {},
     "output_type": "execute_result"
    }
   ],
   "source": [
    "dataTest.shape "
   ]
  },
  {
   "cell_type": "markdown",
   "id": "78254dfc",
   "metadata": {},
   "source": [
    "## Using elbow method to evaluate different numbers of catagories.\n",
    "It is important to note that there are only 4 catagories that we are looking for."
   ]
  },
  {
   "cell_type": "code",
   "execution_count": 63,
   "id": "5d238e68",
   "metadata": {},
   "outputs": [
    {
     "name": "stdout",
     "output_type": "stream",
     "text": [
      "Distortions with 4 clusters: 88025.04804384826\n"
     ]
    },
    {
     "data": {
      "text/plain": [
       "Text(0, 0.5, 'Distortion')"
      ]
     },
     "execution_count": 63,
     "metadata": {},
     "output_type": "execute_result"
    },
    {
     "data": {
      "image/png": "[encoded data removed]",
      "text/plain": [
       "<Figure size 432x288 with 1 Axes>"
      ]
     },
     "metadata": {},
     "output_type": "display_data"
    }
   ],
   "source": [
    "distortions = []\n",
    "\n",
    "for i in range(1, 11): # 1 to 10 inclusive\n",
    "    km = KMeans(\n",
    "        n_clusters = i, \n",
    "        init = 'random',\n",
    "        n_init = 10,\n",
    "        max_iter = 300,\n",
    "        tol = 1e-04,\n",
    "        random_state = 0\n",
    "    )\n",
    "    km.fit(dataTrain.drop('Stress_Label', axis=1))\n",
    "    distortions.append(km.inertia_)\n",
    "    \n",
    "print(f\"Distortions with 4 clusters: {distortions[3]}\")\n",
    "    \n",
    "plt.plot(range(1,11), distortions, marker='o')\n",
    "plt.xlabel('Number of clusters')\n",
    "plt.ylabel('Distortion')"
   ]
  },
  {
   "cell_type": "code",
   "execution_count": 66,
   "id": "6d91c16d",
   "metadata": {},
   "outputs": [
    {
     "data": {
      "text/plain": [
       "88025.04804384826"
      ]
     },
     "execution_count": 66,
     "metadata": {},
     "output_type": "execute_result"
    }
   ],
   "source": [
    "# determining score when number of clusters = 4\n",
    "\n",
    "km4 = KMeans(\n",
    "    n_clusters = 4,\n",
    "    init = 'random',\n",
    "    n_init = 10,\n",
    "    max_iter = 600,\n",
    "    tol = 1e-04,\n",
    "    random_state = 0\n",
    ").fit(dataTrain.drop('Stress_Label', axis=1))\n",
    "\n",
    "km4.inertia_"
   ]
  }
 ],
 "metadata": {
  "kernelspec": {
   "display_name": "Python 3 (ipykernel)",
   "language": "python",
   "name": "python3"
  },
  "language_info": {
   "codemirror_mode": {
    "name": "ipython",
    "version": 3
   },
   "file_extension": ".py",
   "mimetype": "text/x-python",
   "name": "python",
   "nbconvert_exporter": "python",
   "pygments_lexer": "ipython3",
   "version": "3.9.7"
  }
 },
 "nbformat": 4,
 "nbformat_minor": 5
}
